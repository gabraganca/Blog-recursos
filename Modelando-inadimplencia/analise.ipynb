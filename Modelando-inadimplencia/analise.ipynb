{
 "cells": [
  {
   "cell_type": "markdown",
   "metadata": {},
   "source": [
    "# Identificando inadimplência"
   ]
  },
  {
   "cell_type": "code",
   "execution_count": 1,
   "metadata": {},
   "outputs": [],
   "source": [
    "%matplotlib inline\n",
    "%load_ext lab_black"
   ]
  },
  {
   "cell_type": "code",
   "execution_count": 2,
   "metadata": {},
   "outputs": [],
   "source": [
    "import numpy as np\n",
    "import pandas as pd\n",
    "import matplotlib.pyplot as plt\n",
    "import seaborn as sns\n",
    "from IPython.display import display\n",
    "\n",
    "import missingno as msno\n",
    "\n",
    "from sklearn.base import BaseEstimator, TransformerMixin\n",
    "from sklearn.dummy import DummyClassifier\n",
    "from sklearn.ensemble import RandomForestClassifier\n",
    "from sklearn.linear_model import LogisticRegression\n",
    "from sklearn.metrics import confusion_matrix, classification_report\n",
    "from sklearn.model_selection import (\n",
    "    train_test_split,\n",
    "    GridSearchCV,\n",
    "    cross_val_predict,\n",
    "    cross_val_score,\n",
    ")\n",
    "from sklearn.pipeline import Pipeline, FeatureUnion, make_pipeline\n",
    "from sklearn.preprocessing import OneHotEncoder, MinMaxScaler\n",
    "from sklearn.svm import SVC\n",
    "\n",
    "from xgboost import XGBClassifier"
   ]
  },
  {
   "cell_type": "code",
   "execution_count": 3,
   "metadata": {},
   "outputs": [],
   "source": [
    "def show_best_results(model):\n",
    "    print(f\"Recall of {model.best_score_:.3f} for {model.best_params_}\")"
   ]
  },
  {
   "cell_type": "code",
   "execution_count": 4,
   "metadata": {},
   "outputs": [],
   "source": [
    "def confusion_matrix_vis(y_true, y_pred):\n",
    "    fig, ax = plt.subplots()\n",
    "\n",
    "    sns.heatmap(\n",
    "        confusion_matrix(y_true, y_pred), ax=ax, annot=True, fmt=\"d\", cmap=\"Blues\"\n",
    "    )\n",
    "\n",
    "    ax.set(title=\"Confusion Matrix\", xlabel=\"Predicted\", ylabel=\"Actual\")\n",
    "\n",
    "    return fig, ax"
   ]
  },
  {
   "cell_type": "code",
   "execution_count": 5,
   "metadata": {},
   "outputs": [],
   "source": [
    "def grid_results(model, param_1, param_2):\n",
    "    df_results = pd.DataFrame(model.cv_results_)\n",
    "\n",
    "    return (\n",
    "        df_results.pivot(\n",
    "            index=f\"param_{param_1}\",\n",
    "            columns=f\"param_{param_2}\",\n",
    "            values=\"mean_test_score\",\n",
    "        )\n",
    "        .round(3)\n",
    "        .style.background_gradient(\"Blues\", axis=None)\n",
    "    )"
   ]
  },
  {
   "cell_type": "code",
   "execution_count": 6,
   "metadata": {},
   "outputs": [],
   "source": [
    "def report(trained_estimator, X, y):\n",
    "    y_pred = cross_val_predict(trained_estimator, X, y, cv=K_FOLDS)\n",
    "    print(classification_report(y_train.values, y_pred))\n",
    "    display(confusion_matrix_vis(y_train.values, y_pred))"
   ]
  },
  {
   "cell_type": "markdown",
   "metadata": {},
   "source": [
    "## Dados"
   ]
  },
  {
   "cell_type": "code",
   "execution_count": 7,
   "metadata": {},
   "outputs": [
    {
     "data": {
      "text/html": [
       "<div>\n",
       "<style scoped>\n",
       "    .dataframe tbody tr th:only-of-type {\n",
       "        vertical-align: middle;\n",
       "    }\n",
       "\n",
       "    .dataframe tbody tr th {\n",
       "        vertical-align: top;\n",
       "    }\n",
       "\n",
       "    .dataframe thead th {\n",
       "        text-align: right;\n",
       "    }\n",
       "</style>\n",
       "<table border=\"1\" class=\"dataframe\">\n",
       "  <thead>\n",
       "    <tr style=\"text-align: right;\">\n",
       "      <th></th>\n",
       "      <th>City</th>\n",
       "      <th>State</th>\n",
       "      <th>Zip</th>\n",
       "      <th>Bank</th>\n",
       "      <th>BankState</th>\n",
       "      <th>NAICS</th>\n",
       "      <th>Term</th>\n",
       "      <th>NoEmp</th>\n",
       "      <th>NewExist</th>\n",
       "      <th>CreateJob</th>\n",
       "      <th>...</th>\n",
       "      <th>LowDoc</th>\n",
       "      <th>DisbursementGross</th>\n",
       "      <th>GrAppv</th>\n",
       "      <th>SBA_Appv</th>\n",
       "      <th>New</th>\n",
       "      <th>RealEstate</th>\n",
       "      <th>Portion</th>\n",
       "      <th>Recession</th>\n",
       "      <th>daysterm</th>\n",
       "      <th>Default</th>\n",
       "    </tr>\n",
       "    <tr>\n",
       "      <th>LoanNr_ChkDgt</th>\n",
       "      <th></th>\n",
       "      <th></th>\n",
       "      <th></th>\n",
       "      <th></th>\n",
       "      <th></th>\n",
       "      <th></th>\n",
       "      <th></th>\n",
       "      <th></th>\n",
       "      <th></th>\n",
       "      <th></th>\n",
       "      <th></th>\n",
       "      <th></th>\n",
       "      <th></th>\n",
       "      <th></th>\n",
       "      <th></th>\n",
       "      <th></th>\n",
       "      <th></th>\n",
       "      <th></th>\n",
       "      <th></th>\n",
       "      <th></th>\n",
       "      <th></th>\n",
       "    </tr>\n",
       "  </thead>\n",
       "  <tbody>\n",
       "    <tr>\n",
       "      <td>1004285007</td>\n",
       "      <td>ANAHEIM</td>\n",
       "      <td>CA</td>\n",
       "      <td>92801</td>\n",
       "      <td>CALIFORNIA BANK &amp; TRUST</td>\n",
       "      <td>CA</td>\n",
       "      <td>532420</td>\n",
       "      <td>36</td>\n",
       "      <td>1</td>\n",
       "      <td>1</td>\n",
       "      <td>0</td>\n",
       "      <td>...</td>\n",
       "      <td>N</td>\n",
       "      <td>32812.0</td>\n",
       "      <td>30000.0</td>\n",
       "      <td>15000.0</td>\n",
       "      <td>False</td>\n",
       "      <td>False</td>\n",
       "      <td>0.5</td>\n",
       "      <td>False</td>\n",
       "      <td>1080</td>\n",
       "      <td>0</td>\n",
       "    </tr>\n",
       "    <tr>\n",
       "      <td>1004535010</td>\n",
       "      <td>TORRANCE</td>\n",
       "      <td>CA</td>\n",
       "      <td>90505</td>\n",
       "      <td>CALIFORNIA BANK &amp; TRUST</td>\n",
       "      <td>CA</td>\n",
       "      <td>531210</td>\n",
       "      <td>56</td>\n",
       "      <td>1</td>\n",
       "      <td>1</td>\n",
       "      <td>0</td>\n",
       "      <td>...</td>\n",
       "      <td>N</td>\n",
       "      <td>30000.0</td>\n",
       "      <td>30000.0</td>\n",
       "      <td>15000.0</td>\n",
       "      <td>False</td>\n",
       "      <td>False</td>\n",
       "      <td>0.5</td>\n",
       "      <td>True</td>\n",
       "      <td>1680</td>\n",
       "      <td>0</td>\n",
       "    </tr>\n",
       "    <tr>\n",
       "      <td>1005005006</td>\n",
       "      <td>SAN DIEGO</td>\n",
       "      <td>CA</td>\n",
       "      <td>92103</td>\n",
       "      <td>CALIFORNIA BANK &amp; TRUST</td>\n",
       "      <td>CA</td>\n",
       "      <td>531210</td>\n",
       "      <td>36</td>\n",
       "      <td>10</td>\n",
       "      <td>1</td>\n",
       "      <td>0</td>\n",
       "      <td>...</td>\n",
       "      <td>N</td>\n",
       "      <td>30000.0</td>\n",
       "      <td>30000.0</td>\n",
       "      <td>15000.0</td>\n",
       "      <td>False</td>\n",
       "      <td>False</td>\n",
       "      <td>0.5</td>\n",
       "      <td>False</td>\n",
       "      <td>1080</td>\n",
       "      <td>0</td>\n",
       "    </tr>\n",
       "    <tr>\n",
       "      <td>1005535001</td>\n",
       "      <td>SAN DIEGO</td>\n",
       "      <td>CA</td>\n",
       "      <td>92108</td>\n",
       "      <td>CALIFORNIA BANK &amp; TRUST</td>\n",
       "      <td>CA</td>\n",
       "      <td>531312</td>\n",
       "      <td>36</td>\n",
       "      <td>6</td>\n",
       "      <td>1</td>\n",
       "      <td>0</td>\n",
       "      <td>...</td>\n",
       "      <td>N</td>\n",
       "      <td>50000.0</td>\n",
       "      <td>50000.0</td>\n",
       "      <td>25000.0</td>\n",
       "      <td>False</td>\n",
       "      <td>False</td>\n",
       "      <td>0.5</td>\n",
       "      <td>False</td>\n",
       "      <td>1080</td>\n",
       "      <td>0</td>\n",
       "    </tr>\n",
       "    <tr>\n",
       "      <td>1005996006</td>\n",
       "      <td>LOS ANGELES</td>\n",
       "      <td>CA</td>\n",
       "      <td>91345</td>\n",
       "      <td>SBA - EDF ENFORCEMENT ACTION</td>\n",
       "      <td>CO</td>\n",
       "      <td>531390</td>\n",
       "      <td>240</td>\n",
       "      <td>65</td>\n",
       "      <td>1</td>\n",
       "      <td>3</td>\n",
       "      <td>...</td>\n",
       "      <td>N</td>\n",
       "      <td>343000.0</td>\n",
       "      <td>343000.0</td>\n",
       "      <td>343000.0</td>\n",
       "      <td>False</td>\n",
       "      <td>True</td>\n",
       "      <td>1.0</td>\n",
       "      <td>False</td>\n",
       "      <td>7200</td>\n",
       "      <td>0</td>\n",
       "    </tr>\n",
       "  </tbody>\n",
       "</table>\n",
       "<p>5 rows × 24 columns</p>\n",
       "</div>"
      ],
      "text/plain": [
       "                      City State    Zip                          Bank  \\\n",
       "LoanNr_ChkDgt                                                           \n",
       "1004285007         ANAHEIM    CA  92801       CALIFORNIA BANK & TRUST   \n",
       "1004535010        TORRANCE    CA  90505       CALIFORNIA BANK & TRUST   \n",
       "1005005006       SAN DIEGO    CA  92103       CALIFORNIA BANK & TRUST   \n",
       "1005535001       SAN DIEGO    CA  92108       CALIFORNIA BANK & TRUST   \n",
       "1005996006     LOS ANGELES    CA  91345  SBA - EDF ENFORCEMENT ACTION   \n",
       "\n",
       "              BankState   NAICS  Term  NoEmp NewExist  CreateJob  ...  LowDoc  \\\n",
       "LoanNr_ChkDgt                                                     ...           \n",
       "1004285007           CA  532420    36      1        1          0  ...       N   \n",
       "1004535010           CA  531210    56      1        1          0  ...       N   \n",
       "1005005006           CA  531210    36     10        1          0  ...       N   \n",
       "1005535001           CA  531312    36      6        1          0  ...       N   \n",
       "1005996006           CO  531390   240     65        1          3  ...       N   \n",
       "\n",
       "              DisbursementGross    GrAppv  SBA_Appv    New  RealEstate  \\\n",
       "LoanNr_ChkDgt                                                            \n",
       "1004285007              32812.0   30000.0   15000.0  False       False   \n",
       "1004535010              30000.0   30000.0   15000.0  False       False   \n",
       "1005005006              30000.0   30000.0   15000.0  False       False   \n",
       "1005535001              50000.0   50000.0   25000.0  False       False   \n",
       "1005996006             343000.0  343000.0  343000.0  False        True   \n",
       "\n",
       "               Portion  Recession  daysterm  Default  \n",
       "LoanNr_ChkDgt                                         \n",
       "1004285007         0.5      False      1080        0  \n",
       "1004535010         0.5       True      1680        0  \n",
       "1005005006         0.5      False      1080        0  \n",
       "1005535001         0.5      False      1080        0  \n",
       "1005996006         1.0      False      7200        0  \n",
       "\n",
       "[5 rows x 24 columns]"
      ]
     },
     "metadata": {},
     "output_type": "display_data"
    },
    {
     "name": "stdout",
     "output_type": "stream",
     "text": [
      "<class 'pandas.core.frame.DataFrame'>\n",
      "Int64Index: 2102 entries, 1004285007 to 9958873001\n",
      "Data columns (total 24 columns):\n",
      "City                 2102 non-null object\n",
      "State                2102 non-null object\n",
      "Zip                  2102 non-null object\n",
      "Bank                 2099 non-null object\n",
      "BankState            2099 non-null object\n",
      "NAICS                2102 non-null object\n",
      "Term                 2102 non-null int64\n",
      "NoEmp                2102 non-null int64\n",
      "NewExist             2101 non-null object\n",
      "CreateJob            2102 non-null int64\n",
      "RetainedJob          2102 non-null int64\n",
      "FranchiseCode        2102 non-null object\n",
      "UrbanRural           2102 non-null object\n",
      "RevLineCr            2100 non-null object\n",
      "LowDoc               2099 non-null object\n",
      "DisbursementGross    2102 non-null float64\n",
      "GrAppv               2102 non-null float64\n",
      "SBA_Appv             2102 non-null float64\n",
      "New                  2102 non-null bool\n",
      "RealEstate           2102 non-null bool\n",
      "Portion              2102 non-null float64\n",
      "Recession            2102 non-null bool\n",
      "daysterm             2102 non-null int64\n",
      "Default              2102 non-null int64\n",
      "dtypes: bool(3), float64(4), int64(6), object(11)\n",
      "memory usage: 367.4+ KB\n"
     ]
    }
   ],
   "source": [
    "dtypes = {\n",
    "    \"City\": str,\n",
    "    \"State\": str,\n",
    "    \"Zip\": str,\n",
    "    \"Bank\": str,\n",
    "    \"BankState\": str,\n",
    "    \"NAICS\": str,\n",
    "    \"Term\": int,\n",
    "    \"NoEmp\": int,\n",
    "    \"NewExist\": str,\n",
    "    \"CreateJob\": int,\n",
    "    \"RetainedJob\": int,\n",
    "    \"FranchiseCode\": str,\n",
    "    \"UrbanRural\": str,\n",
    "    \"RevLineCr\": str,\n",
    "    \"LowDoc\": str,\n",
    "    \"DisbursementGross\": float,\n",
    "    \"GrAppv\": float,\n",
    "    \"SBA_Appv\": float,\n",
    "    \"New\": bool,\n",
    "    \"RealEstate\": bool,\n",
    "    \"Portion\": float,\n",
    "    \"Recession\": bool,\n",
    "    \"daysterm\": int,\n",
    "    \"Default\": int,\n",
    "}\n",
    "\n",
    "\n",
    "df_case = pd.read_csv(\"SBAcase.11.13.17.csv\", index_col=1, dtype=dtypes)[dtypes.keys()]\n",
    "display(df_case.head())\n",
    "df_case.info()"
   ]
  },
  {
   "cell_type": "markdown",
   "metadata": {},
   "source": [
    "Estamos interessados na coluna  `default` que significa se a empresa pagou ou não o empréstimo:\n",
    "* `0`, a empresa pagou o empréstimo\n",
    "* `1`: a empresa não pagou o empréstimo\n"
   ]
  },
  {
   "cell_type": "code",
   "execution_count": 8,
   "metadata": {},
   "outputs": [
    {
     "data": {
      "text/html": [
       "<div>\n",
       "<style scoped>\n",
       "    .dataframe tbody tr th:only-of-type {\n",
       "        vertical-align: middle;\n",
       "    }\n",
       "\n",
       "    .dataframe tbody tr th {\n",
       "        vertical-align: top;\n",
       "    }\n",
       "\n",
       "    .dataframe thead th {\n",
       "        text-align: right;\n",
       "    }\n",
       "</style>\n",
       "<table border=\"1\" class=\"dataframe\">\n",
       "  <thead>\n",
       "    <tr style=\"text-align: right;\">\n",
       "      <th></th>\n",
       "      <th>1004285007</th>\n",
       "    </tr>\n",
       "  </thead>\n",
       "  <tbody>\n",
       "    <tr>\n",
       "      <td>City</td>\n",
       "      <td>ANAHEIM</td>\n",
       "    </tr>\n",
       "    <tr>\n",
       "      <td>State</td>\n",
       "      <td>CA</td>\n",
       "    </tr>\n",
       "    <tr>\n",
       "      <td>Zip</td>\n",
       "      <td>92801</td>\n",
       "    </tr>\n",
       "    <tr>\n",
       "      <td>Bank</td>\n",
       "      <td>CALIFORNIA BANK &amp; TRUST</td>\n",
       "    </tr>\n",
       "    <tr>\n",
       "      <td>BankState</td>\n",
       "      <td>CA</td>\n",
       "    </tr>\n",
       "    <tr>\n",
       "      <td>NAICS</td>\n",
       "      <td>532420</td>\n",
       "    </tr>\n",
       "    <tr>\n",
       "      <td>Term</td>\n",
       "      <td>36</td>\n",
       "    </tr>\n",
       "    <tr>\n",
       "      <td>NoEmp</td>\n",
       "      <td>1</td>\n",
       "    </tr>\n",
       "    <tr>\n",
       "      <td>NewExist</td>\n",
       "      <td>1</td>\n",
       "    </tr>\n",
       "    <tr>\n",
       "      <td>CreateJob</td>\n",
       "      <td>0</td>\n",
       "    </tr>\n",
       "    <tr>\n",
       "      <td>RetainedJob</td>\n",
       "      <td>0</td>\n",
       "    </tr>\n",
       "    <tr>\n",
       "      <td>FranchiseCode</td>\n",
       "      <td>1</td>\n",
       "    </tr>\n",
       "    <tr>\n",
       "      <td>UrbanRural</td>\n",
       "      <td>0</td>\n",
       "    </tr>\n",
       "    <tr>\n",
       "      <td>RevLineCr</td>\n",
       "      <td>Y</td>\n",
       "    </tr>\n",
       "    <tr>\n",
       "      <td>LowDoc</td>\n",
       "      <td>N</td>\n",
       "    </tr>\n",
       "    <tr>\n",
       "      <td>DisbursementGross</td>\n",
       "      <td>32812</td>\n",
       "    </tr>\n",
       "    <tr>\n",
       "      <td>GrAppv</td>\n",
       "      <td>30000</td>\n",
       "    </tr>\n",
       "    <tr>\n",
       "      <td>SBA_Appv</td>\n",
       "      <td>15000</td>\n",
       "    </tr>\n",
       "    <tr>\n",
       "      <td>New</td>\n",
       "      <td>False</td>\n",
       "    </tr>\n",
       "    <tr>\n",
       "      <td>RealEstate</td>\n",
       "      <td>False</td>\n",
       "    </tr>\n",
       "    <tr>\n",
       "      <td>Portion</td>\n",
       "      <td>0.5</td>\n",
       "    </tr>\n",
       "    <tr>\n",
       "      <td>Recession</td>\n",
       "      <td>False</td>\n",
       "    </tr>\n",
       "    <tr>\n",
       "      <td>daysterm</td>\n",
       "      <td>1080</td>\n",
       "    </tr>\n",
       "    <tr>\n",
       "      <td>Default</td>\n",
       "      <td>0</td>\n",
       "    </tr>\n",
       "  </tbody>\n",
       "</table>\n",
       "</div>"
      ],
      "text/plain": [
       "                                1004285007\n",
       "City                               ANAHEIM\n",
       "State                                   CA\n",
       "Zip                                  92801\n",
       "Bank               CALIFORNIA BANK & TRUST\n",
       "BankState                               CA\n",
       "NAICS                               532420\n",
       "Term                                    36\n",
       "NoEmp                                    1\n",
       "NewExist                                 1\n",
       "CreateJob                                0\n",
       "RetainedJob                              0\n",
       "FranchiseCode                            1\n",
       "UrbanRural                               0\n",
       "RevLineCr                                Y\n",
       "LowDoc                                   N\n",
       "DisbursementGross                    32812\n",
       "GrAppv                               30000\n",
       "SBA_Appv                             15000\n",
       "New                                  False\n",
       "RealEstate                           False\n",
       "Portion                                0.5\n",
       "Recession                            False\n",
       "daysterm                              1080\n",
       "Default                                  0"
      ]
     },
     "execution_count": 8,
     "metadata": {},
     "output_type": "execute_result"
    }
   ],
   "source": [
    "df_case.iloc[0].to_frame()"
   ]
  },
  {
   "cell_type": "markdown",
   "metadata": {},
   "source": [
    "## Dados ausentes"
   ]
  },
  {
   "cell_type": "markdown",
   "metadata": {},
   "source": [
    "Vamos verificar a ausência de dados."
   ]
  },
  {
   "cell_type": "code",
   "execution_count": 9,
   "metadata": {},
   "outputs": [
    {
     "data": {
      "text/plain": [
       "<matplotlib.axes._subplots.AxesSubplot at 0x7fcc080939e8>"
      ]
     },
     "execution_count": 9,
     "metadata": {},
     "output_type": "execute_result"
    },
    {
     "data": {
      "image/png": "[encoded data removed]",
      "text/plain": [
       "<Figure size 1800x720 with 2 Axes>"
      ]
     },
     "metadata": {
      "needs_background": "light"
     },
     "output_type": "display_data"
    }
   ],
   "source": [
    "msno.matrix(df_case)"
   ]
  },
  {
   "cell_type": "code",
   "execution_count": 10,
   "metadata": {},
   "outputs": [
    {
     "data": {
      "text/plain": [
       "City                 0\n",
       "State                0\n",
       "Zip                  0\n",
       "Bank                 3\n",
       "BankState            3\n",
       "NAICS                0\n",
       "Term                 0\n",
       "NoEmp                0\n",
       "NewExist             1\n",
       "CreateJob            0\n",
       "RetainedJob          0\n",
       "FranchiseCode        0\n",
       "UrbanRural           0\n",
       "RevLineCr            2\n",
       "LowDoc               3\n",
       "DisbursementGross    0\n",
       "GrAppv               0\n",
       "SBA_Appv             0\n",
       "New                  0\n",
       "RealEstate           0\n",
       "Portion              0\n",
       "Recession            0\n",
       "daysterm             0\n",
       "Default              0\n",
       "dtype: int64"
      ]
     },
     "execution_count": 10,
     "metadata": {},
     "output_type": "execute_result"
    }
   ],
   "source": [
    "df_case.isnull().sum(axis=0)"
   ]
  },
  {
   "cell_type": "markdown",
   "metadata": {},
   "source": [
    "Vemos que temos poucos valores ausentes. Vamos removê-los:"
   ]
  },
  {
   "cell_type": "code",
   "execution_count": 11,
   "metadata": {},
   "outputs": [],
   "source": [
    "df_case = df_case.dropna()"
   ]
  },
  {
   "cell_type": "markdown",
   "metadata": {},
   "source": [
    "## Separação treino-teste"
   ]
  },
  {
   "cell_type": "markdown",
   "metadata": {},
   "source": [
    "Antes de separar em treino e teste, verificamos o balanceamento da variável alvo. "
   ]
  },
  {
   "cell_type": "code",
   "execution_count": 12,
   "metadata": {},
   "outputs": [
    {
     "data": {
      "text/plain": [
       "[Text(0, 0.5, ''), Text(0.5, 1.0, 'Porcentagem de Default')]"
      ]
     },
     "execution_count": 12,
     "metadata": {},
     "output_type": "execute_result"
    },
    {
     "data": {
      "image/png": "[encoded data removed]",
      "text/plain": [
       "<Figure size 432x288 with 1 Axes>"
      ]
     },
     "metadata": {},
     "output_type": "display_data"
    }
   ],
   "source": [
    "ax = (\n",
    "    df_case[\"Default\"]\n",
    "    .astype(int)\n",
    "    .map({0: \"Pago\", 1: \"Default\"})\n",
    "    .value_counts()\n",
    "    .plot.pie(autopct=\"%1.1f%%\")\n",
    ")\n",
    "ax.set(title=\"Porcentagem de Default\", ylabel=\"\")"
   ]
  },
  {
   "cell_type": "markdown",
   "metadata": {},
   "source": [
    "A variável alvo está desbalanceada. Por isso, vamos usar uma separação treino-teste estratificada para manter a proporção:"
   ]
  },
  {
   "cell_type": "code",
   "execution_count": 13,
   "metadata": {},
   "outputs": [],
   "source": [
    "X = df_case.drop([\"Default\"], axis=1)\n",
    "y = df_case[\"Default\"]\n",
    "\n",
    "X_train, X_test, y_train, y_test = train_test_split(\n",
    "    X, y, stratify=y, test_size=0.25, random_state=42\n",
    ")"
   ]
  },
  {
   "cell_type": "code",
   "execution_count": 14,
   "metadata": {},
   "outputs": [
    {
     "data": {
      "text/plain": [
       "[Text(0, 0.5, ''), Text(0.5, 1.0, 'Porcentagem de Default')]"
      ]
     },
     "execution_count": 14,
     "metadata": {},
     "output_type": "execute_result"
    },
    {
     "data": {
      "image/png": "[encoded data removed]",
      "text/plain": [
       "<Figure size 432x288 with 1 Axes>"
      ]
     },
     "metadata": {},
     "output_type": "display_data"
    }
   ],
   "source": [
    "ax = y_train.map({0: \"Pago\", 1: \"Default\"}).value_counts().plot.pie(autopct=\"%1.1f%%\")\n",
    "ax.set(title=\"Porcentagem de Default\", ylabel=\"\")"
   ]
  },
  {
   "cell_type": "markdown",
   "metadata": {},
   "source": [
    "## Análise Exploratória"
   ]
  },
  {
   "cell_type": "markdown",
   "metadata": {},
   "source": [
    "Com o dado de teste separado, podemos realizar uma análise exploratória simples no conjunto de treino.\n",
    "\n",
    "Vamos unir os atributos mais o alvo em um DataFrame para facilitar a análise exploratória."
   ]
  },
  {
   "cell_type": "code",
   "execution_count": 15,
   "metadata": {},
   "outputs": [
    {
     "data": {
      "text/html": [
       "<div>\n",
       "<style scoped>\n",
       "    .dataframe tbody tr th:only-of-type {\n",
       "        vertical-align: middle;\n",
       "    }\n",
       "\n",
       "    .dataframe tbody tr th {\n",
       "        vertical-align: top;\n",
       "    }\n",
       "\n",
       "    .dataframe thead th {\n",
       "        text-align: right;\n",
       "    }\n",
       "</style>\n",
       "<table border=\"1\" class=\"dataframe\">\n",
       "  <thead>\n",
       "    <tr style=\"text-align: right;\">\n",
       "      <th></th>\n",
       "      <th>City</th>\n",
       "      <th>State</th>\n",
       "      <th>Zip</th>\n",
       "      <th>Bank</th>\n",
       "      <th>BankState</th>\n",
       "      <th>NAICS</th>\n",
       "      <th>Term</th>\n",
       "      <th>NoEmp</th>\n",
       "      <th>NewExist</th>\n",
       "      <th>CreateJob</th>\n",
       "      <th>...</th>\n",
       "      <th>LowDoc</th>\n",
       "      <th>DisbursementGross</th>\n",
       "      <th>GrAppv</th>\n",
       "      <th>SBA_Appv</th>\n",
       "      <th>New</th>\n",
       "      <th>RealEstate</th>\n",
       "      <th>Portion</th>\n",
       "      <th>Recession</th>\n",
       "      <th>daysterm</th>\n",
       "      <th>Default</th>\n",
       "    </tr>\n",
       "    <tr>\n",
       "      <th>LoanNr_ChkDgt</th>\n",
       "      <th></th>\n",
       "      <th></th>\n",
       "      <th></th>\n",
       "      <th></th>\n",
       "      <th></th>\n",
       "      <th></th>\n",
       "      <th></th>\n",
       "      <th></th>\n",
       "      <th></th>\n",
       "      <th></th>\n",
       "      <th></th>\n",
       "      <th></th>\n",
       "      <th></th>\n",
       "      <th></th>\n",
       "      <th></th>\n",
       "      <th></th>\n",
       "      <th></th>\n",
       "      <th></th>\n",
       "      <th></th>\n",
       "      <th></th>\n",
       "      <th></th>\n",
       "    </tr>\n",
       "  </thead>\n",
       "  <tbody>\n",
       "    <tr>\n",
       "      <td>2155836004</td>\n",
       "      <td>SUNLAND</td>\n",
       "      <td>CA</td>\n",
       "      <td>91040</td>\n",
       "      <td>WELLS FARGO BANK NATL ASSOC</td>\n",
       "      <td>SD</td>\n",
       "      <td>531210</td>\n",
       "      <td>26</td>\n",
       "      <td>1</td>\n",
       "      <td>1</td>\n",
       "      <td>1</td>\n",
       "      <td>...</td>\n",
       "      <td>N</td>\n",
       "      <td>97836.0</td>\n",
       "      <td>50000.0</td>\n",
       "      <td>25000.0</td>\n",
       "      <td>False</td>\n",
       "      <td>False</td>\n",
       "      <td>0.5</td>\n",
       "      <td>False</td>\n",
       "      <td>780</td>\n",
       "      <td>1</td>\n",
       "    </tr>\n",
       "    <tr>\n",
       "      <td>1960805008</td>\n",
       "      <td>NORTH HILLS</td>\n",
       "      <td>CA</td>\n",
       "      <td>91343</td>\n",
       "      <td>BANK OF AMERICA NATL ASSOC</td>\n",
       "      <td>NC</td>\n",
       "      <td>531210</td>\n",
       "      <td>62</td>\n",
       "      <td>1</td>\n",
       "      <td>1</td>\n",
       "      <td>0</td>\n",
       "      <td>...</td>\n",
       "      <td>N</td>\n",
       "      <td>34200.0</td>\n",
       "      <td>24000.0</td>\n",
       "      <td>12000.0</td>\n",
       "      <td>False</td>\n",
       "      <td>False</td>\n",
       "      <td>0.5</td>\n",
       "      <td>False</td>\n",
       "      <td>1860</td>\n",
       "      <td>1</td>\n",
       "    </tr>\n",
       "    <tr>\n",
       "      <td>2953176001</td>\n",
       "      <td>LOS ANGELES</td>\n",
       "      <td>CA</td>\n",
       "      <td>90004</td>\n",
       "      <td>JPMORGAN CHASE BANK NATL ASSOC</td>\n",
       "      <td>IL</td>\n",
       "      <td>531311</td>\n",
       "      <td>50</td>\n",
       "      <td>5</td>\n",
       "      <td>1</td>\n",
       "      <td>0</td>\n",
       "      <td>...</td>\n",
       "      <td>N</td>\n",
       "      <td>42478.0</td>\n",
       "      <td>30000.0</td>\n",
       "      <td>15000.0</td>\n",
       "      <td>False</td>\n",
       "      <td>False</td>\n",
       "      <td>0.5</td>\n",
       "      <td>False</td>\n",
       "      <td>1500</td>\n",
       "      <td>1</td>\n",
       "    </tr>\n",
       "    <tr>\n",
       "      <td>7414164010</td>\n",
       "      <td>LA MESA</td>\n",
       "      <td>CA</td>\n",
       "      <td>91942</td>\n",
       "      <td>BANK OF AMERICA NATL ASSOC</td>\n",
       "      <td>NC</td>\n",
       "      <td>531210</td>\n",
       "      <td>56</td>\n",
       "      <td>1</td>\n",
       "      <td>1</td>\n",
       "      <td>0</td>\n",
       "      <td>...</td>\n",
       "      <td>N</td>\n",
       "      <td>25000.0</td>\n",
       "      <td>25000.0</td>\n",
       "      <td>12500.0</td>\n",
       "      <td>False</td>\n",
       "      <td>False</td>\n",
       "      <td>0.5</td>\n",
       "      <td>True</td>\n",
       "      <td>1680</td>\n",
       "      <td>1</td>\n",
       "    </tr>\n",
       "    <tr>\n",
       "      <td>1854955003</td>\n",
       "      <td>PATTERSON</td>\n",
       "      <td>CA</td>\n",
       "      <td>95363</td>\n",
       "      <td>BANK OF AMERICA NATL ASSOC</td>\n",
       "      <td>NC</td>\n",
       "      <td>531390</td>\n",
       "      <td>38</td>\n",
       "      <td>3</td>\n",
       "      <td>1</td>\n",
       "      <td>0</td>\n",
       "      <td>...</td>\n",
       "      <td>N</td>\n",
       "      <td>18063.0</td>\n",
       "      <td>10000.0</td>\n",
       "      <td>5000.0</td>\n",
       "      <td>False</td>\n",
       "      <td>False</td>\n",
       "      <td>0.5</td>\n",
       "      <td>False</td>\n",
       "      <td>1140</td>\n",
       "      <td>1</td>\n",
       "    </tr>\n",
       "  </tbody>\n",
       "</table>\n",
       "<p>5 rows × 24 columns</p>\n",
       "</div>"
      ],
      "text/plain": [
       "                      City State    Zip                            Bank  \\\n",
       "LoanNr_ChkDgt                                                             \n",
       "2155836004         SUNLAND    CA  91040     WELLS FARGO BANK NATL ASSOC   \n",
       "1960805008     NORTH HILLS    CA  91343      BANK OF AMERICA NATL ASSOC   \n",
       "2953176001     LOS ANGELES    CA  90004  JPMORGAN CHASE BANK NATL ASSOC   \n",
       "7414164010         LA MESA    CA  91942      BANK OF AMERICA NATL ASSOC   \n",
       "1854955003       PATTERSON    CA  95363      BANK OF AMERICA NATL ASSOC   \n",
       "\n",
       "              BankState   NAICS  Term  NoEmp NewExist  CreateJob  ...  LowDoc  \\\n",
       "LoanNr_ChkDgt                                                     ...           \n",
       "2155836004           SD  531210    26      1        1          1  ...       N   \n",
       "1960805008           NC  531210    62      1        1          0  ...       N   \n",
       "2953176001           IL  531311    50      5        1          0  ...       N   \n",
       "7414164010           NC  531210    56      1        1          0  ...       N   \n",
       "1854955003           NC  531390    38      3        1          0  ...       N   \n",
       "\n",
       "              DisbursementGross   GrAppv SBA_Appv    New  RealEstate  Portion  \\\n",
       "LoanNr_ChkDgt                                                                   \n",
       "2155836004              97836.0  50000.0  25000.0  False       False      0.5   \n",
       "1960805008              34200.0  24000.0  12000.0  False       False      0.5   \n",
       "2953176001              42478.0  30000.0  15000.0  False       False      0.5   \n",
       "7414164010              25000.0  25000.0  12500.0  False       False      0.5   \n",
       "1854955003              18063.0  10000.0   5000.0  False       False      0.5   \n",
       "\n",
       "               Recession  daysterm  Default  \n",
       "LoanNr_ChkDgt                                \n",
       "2155836004         False       780        1  \n",
       "1960805008         False      1860        1  \n",
       "2953176001         False      1500        1  \n",
       "7414164010          True      1680        1  \n",
       "1854955003         False      1140        1  \n",
       "\n",
       "[5 rows x 24 columns]"
      ]
     },
     "execution_count": 15,
     "metadata": {},
     "output_type": "execute_result"
    }
   ],
   "source": [
    "df_train = pd.merge(X_train, y_train, left_index=True, right_index=True)\n",
    "df_train.head()"
   ]
  },
  {
   "cell_type": "code",
   "execution_count": 16,
   "metadata": {},
   "outputs": [
    {
     "name": "stdout",
     "output_type": "stream",
     "text": [
      "<class 'pandas.core.frame.DataFrame'>\n",
      "Int64Index: 1569 entries, 2155836004 to 4242234006\n",
      "Data columns (total 24 columns):\n",
      "City                 1569 non-null object\n",
      "State                1569 non-null object\n",
      "Zip                  1569 non-null object\n",
      "Bank                 1569 non-null object\n",
      "BankState            1569 non-null object\n",
      "NAICS                1569 non-null object\n",
      "Term                 1569 non-null int64\n",
      "NoEmp                1569 non-null int64\n",
      "NewExist             1569 non-null object\n",
      "CreateJob            1569 non-null int64\n",
      "RetainedJob          1569 non-null int64\n",
      "FranchiseCode        1569 non-null object\n",
      "UrbanRural           1569 non-null object\n",
      "RevLineCr            1569 non-null object\n",
      "LowDoc               1569 non-null object\n",
      "DisbursementGross    1569 non-null float64\n",
      "GrAppv               1569 non-null float64\n",
      "SBA_Appv             1569 non-null float64\n",
      "New                  1569 non-null bool\n",
      "RealEstate           1569 non-null bool\n",
      "Portion              1569 non-null float64\n",
      "Recession            1569 non-null bool\n",
      "daysterm             1569 non-null int64\n",
      "Default              1569 non-null int64\n",
      "dtypes: bool(3), float64(4), int64(6), object(11)\n",
      "memory usage: 314.3+ KB\n"
     ]
    }
   ],
   "source": [
    "df_train.info()"
   ]
  },
  {
   "cell_type": "markdown",
   "metadata": {},
   "source": [
    "Alguns atributos possuem informação redundante:\n",
    "\n",
    "* `City`, `State` e `Zip`, que representam a localidade do tomador do empréstimo.\n",
    "* `Term` e `daysterm` que indicam a duração do empréstimo e meses e dias, respectivamente.\n",
    "* `MIS_Status` e `Default` que representam se o empreśtimo foi pago ou não."
   ]
  },
  {
   "cell_type": "code",
   "execution_count": 17,
   "metadata": {},
   "outputs": [
    {
     "data": {
      "text/html": [
       "<div>\n",
       "<style scoped>\n",
       "    .dataframe tbody tr th:only-of-type {\n",
       "        vertical-align: middle;\n",
       "    }\n",
       "\n",
       "    .dataframe tbody tr th {\n",
       "        vertical-align: top;\n",
       "    }\n",
       "\n",
       "    .dataframe thead th {\n",
       "        text-align: right;\n",
       "    }\n",
       "</style>\n",
       "<table border=\"1\" class=\"dataframe\">\n",
       "  <thead>\n",
       "    <tr style=\"text-align: right;\">\n",
       "      <th></th>\n",
       "      <th>Term</th>\n",
       "      <th>NoEmp</th>\n",
       "      <th>CreateJob</th>\n",
       "      <th>RetainedJob</th>\n",
       "      <th>DisbursementGross</th>\n",
       "      <th>GrAppv</th>\n",
       "      <th>SBA_Appv</th>\n",
       "      <th>Portion</th>\n",
       "      <th>daysterm</th>\n",
       "      <th>Default</th>\n",
       "    </tr>\n",
       "  </thead>\n",
       "  <tbody>\n",
       "    <tr>\n",
       "      <td>count</td>\n",
       "      <td>1569.000000</td>\n",
       "      <td>1569.000000</td>\n",
       "      <td>1569.000000</td>\n",
       "      <td>1569.000000</td>\n",
       "      <td>1.569000e+03</td>\n",
       "      <td>1.569000e+03</td>\n",
       "      <td>1.569000e+03</td>\n",
       "      <td>1569.000000</td>\n",
       "      <td>1569.000000</td>\n",
       "      <td>1569.000000</td>\n",
       "    </tr>\n",
       "    <tr>\n",
       "      <td>mean</td>\n",
       "      <td>127.730402</td>\n",
       "      <td>9.425112</td>\n",
       "      <td>2.607393</td>\n",
       "      <td>5.473550</td>\n",
       "      <td>2.429108e+05</td>\n",
       "      <td>2.334793e+05</td>\n",
       "      <td>1.905752e+05</td>\n",
       "      <td>0.673497</td>\n",
       "      <td>3831.912046</td>\n",
       "      <td>0.327597</td>\n",
       "    </tr>\n",
       "    <tr>\n",
       "      <td>std</td>\n",
       "      <td>93.880565</td>\n",
       "      <td>29.996040</td>\n",
       "      <td>8.233214</td>\n",
       "      <td>18.942433</td>\n",
       "      <td>3.365639e+05</td>\n",
       "      <td>3.427521e+05</td>\n",
       "      <td>3.000879e+05</td>\n",
       "      <td>0.187303</td>\n",
       "      <td>2816.416962</td>\n",
       "      <td>0.469487</td>\n",
       "    </tr>\n",
       "    <tr>\n",
       "      <td>min</td>\n",
       "      <td>0.000000</td>\n",
       "      <td>0.000000</td>\n",
       "      <td>0.000000</td>\n",
       "      <td>0.000000</td>\n",
       "      <td>4.999000e+03</td>\n",
       "      <td>5.000000e+03</td>\n",
       "      <td>2.500000e+03</td>\n",
       "      <td>0.400000</td>\n",
       "      <td>0.000000</td>\n",
       "      <td>0.000000</td>\n",
       "    </tr>\n",
       "    <tr>\n",
       "      <td>25%</td>\n",
       "      <td>60.000000</td>\n",
       "      <td>2.000000</td>\n",
       "      <td>0.000000</td>\n",
       "      <td>0.000000</td>\n",
       "      <td>4.000000e+04</td>\n",
       "      <td>3.000000e+04</td>\n",
       "      <td>1.500000e+04</td>\n",
       "      <td>0.500000</td>\n",
       "      <td>1800.000000</td>\n",
       "      <td>0.000000</td>\n",
       "    </tr>\n",
       "    <tr>\n",
       "      <td>50%</td>\n",
       "      <td>84.000000</td>\n",
       "      <td>3.000000</td>\n",
       "      <td>0.000000</td>\n",
       "      <td>2.000000</td>\n",
       "      <td>1.000000e+05</td>\n",
       "      <td>6.200000e+04</td>\n",
       "      <td>4.160000e+04</td>\n",
       "      <td>0.700000</td>\n",
       "      <td>2520.000000</td>\n",
       "      <td>0.000000</td>\n",
       "    </tr>\n",
       "    <tr>\n",
       "      <td>75%</td>\n",
       "      <td>240.000000</td>\n",
       "      <td>8.000000</td>\n",
       "      <td>2.000000</td>\n",
       "      <td>5.000000</td>\n",
       "      <td>3.060000e+05</td>\n",
       "      <td>3.000000e+05</td>\n",
       "      <td>2.409750e+05</td>\n",
       "      <td>0.850000</td>\n",
       "      <td>7200.000000</td>\n",
       "      <td>1.000000</td>\n",
       "    </tr>\n",
       "    <tr>\n",
       "      <td>max</td>\n",
       "      <td>306.000000</td>\n",
       "      <td>600.000000</td>\n",
       "      <td>130.000000</td>\n",
       "      <td>535.000000</td>\n",
       "      <td>2.315000e+06</td>\n",
       "      <td>2.350000e+06</td>\n",
       "      <td>2.115000e+06</td>\n",
       "      <td>1.000000</td>\n",
       "      <td>9180.000000</td>\n",
       "      <td>1.000000</td>\n",
       "    </tr>\n",
       "  </tbody>\n",
       "</table>\n",
       "</div>"
      ],
      "text/plain": [
       "              Term        NoEmp    CreateJob  RetainedJob  DisbursementGross  \\\n",
       "count  1569.000000  1569.000000  1569.000000  1569.000000       1.569000e+03   \n",
       "mean    127.730402     9.425112     2.607393     5.473550       2.429108e+05   \n",
       "std      93.880565    29.996040     8.233214    18.942433       3.365639e+05   \n",
       "min       0.000000     0.000000     0.000000     0.000000       4.999000e+03   \n",
       "25%      60.000000     2.000000     0.000000     0.000000       4.000000e+04   \n",
       "50%      84.000000     3.000000     0.000000     2.000000       1.000000e+05   \n",
       "75%     240.000000     8.000000     2.000000     5.000000       3.060000e+05   \n",
       "max     306.000000   600.000000   130.000000   535.000000       2.315000e+06   \n",
       "\n",
       "             GrAppv      SBA_Appv      Portion     daysterm      Default  \n",
       "count  1.569000e+03  1.569000e+03  1569.000000  1569.000000  1569.000000  \n",
       "mean   2.334793e+05  1.905752e+05     0.673497  3831.912046     0.327597  \n",
       "std    3.427521e+05  3.000879e+05     0.187303  2816.416962     0.469487  \n",
       "min    5.000000e+03  2.500000e+03     0.400000     0.000000     0.000000  \n",
       "25%    3.000000e+04  1.500000e+04     0.500000  1800.000000     0.000000  \n",
       "50%    6.200000e+04  4.160000e+04     0.700000  2520.000000     0.000000  \n",
       "75%    3.000000e+05  2.409750e+05     0.850000  7200.000000     1.000000  \n",
       "max    2.350000e+06  2.115000e+06     1.000000  9180.000000     1.000000  "
      ]
     },
     "execution_count": 17,
     "metadata": {},
     "output_type": "execute_result"
    }
   ],
   "source": [
    "df_train.describe()"
   ]
  },
  {
   "cell_type": "code",
   "execution_count": 18,
   "metadata": {},
   "outputs": [
    {
     "data": {
      "text/html": [
       "<div>\n",
       "<style scoped>\n",
       "    .dataframe tbody tr th:only-of-type {\n",
       "        vertical-align: middle;\n",
       "    }\n",
       "\n",
       "    .dataframe tbody tr th {\n",
       "        vertical-align: top;\n",
       "    }\n",
       "\n",
       "    .dataframe thead th {\n",
       "        text-align: right;\n",
       "    }\n",
       "</style>\n",
       "<table border=\"1\" class=\"dataframe\">\n",
       "  <thead>\n",
       "    <tr style=\"text-align: right;\">\n",
       "      <th></th>\n",
       "      <th>City</th>\n",
       "      <th>State</th>\n",
       "      <th>Zip</th>\n",
       "      <th>Bank</th>\n",
       "      <th>BankState</th>\n",
       "      <th>NAICS</th>\n",
       "      <th>NewExist</th>\n",
       "      <th>FranchiseCode</th>\n",
       "      <th>UrbanRural</th>\n",
       "      <th>RevLineCr</th>\n",
       "      <th>LowDoc</th>\n",
       "    </tr>\n",
       "  </thead>\n",
       "  <tbody>\n",
       "    <tr>\n",
       "      <td>count</td>\n",
       "      <td>1569</td>\n",
       "      <td>1569</td>\n",
       "      <td>1569</td>\n",
       "      <td>1569</td>\n",
       "      <td>1569</td>\n",
       "      <td>1569</td>\n",
       "      <td>1569</td>\n",
       "      <td>1569</td>\n",
       "      <td>1569</td>\n",
       "      <td>1569</td>\n",
       "      <td>1569</td>\n",
       "    </tr>\n",
       "    <tr>\n",
       "      <td>unique</td>\n",
       "      <td>448</td>\n",
       "      <td>1</td>\n",
       "      <td>724</td>\n",
       "      <td>137</td>\n",
       "      <td>20</td>\n",
       "      <td>24</td>\n",
       "      <td>2</td>\n",
       "      <td>29</td>\n",
       "      <td>3</td>\n",
       "      <td>4</td>\n",
       "      <td>5</td>\n",
       "    </tr>\n",
       "    <tr>\n",
       "      <td>top</td>\n",
       "      <td>LOS ANGELES</td>\n",
       "      <td>CA</td>\n",
       "      <td>92618</td>\n",
       "      <td>BANK OF AMERICA NATL ASSOC</td>\n",
       "      <td>CA</td>\n",
       "      <td>531210</td>\n",
       "      <td>1</td>\n",
       "      <td>1</td>\n",
       "      <td>1</td>\n",
       "      <td>Y</td>\n",
       "      <td>N</td>\n",
       "    </tr>\n",
       "    <tr>\n",
       "      <td>freq</td>\n",
       "      <td>113</td>\n",
       "      <td>1569</td>\n",
       "      <td>13</td>\n",
       "      <td>263</td>\n",
       "      <td>741</td>\n",
       "      <td>588</td>\n",
       "      <td>1316</td>\n",
       "      <td>1068</td>\n",
       "      <td>1319</td>\n",
       "      <td>557</td>\n",
       "      <td>1533</td>\n",
       "    </tr>\n",
       "  </tbody>\n",
       "</table>\n",
       "</div>"
      ],
      "text/plain": [
       "               City State    Zip                        Bank BankState  \\\n",
       "count          1569  1569   1569                        1569      1569   \n",
       "unique          448     1    724                         137        20   \n",
       "top     LOS ANGELES    CA  92618  BANK OF AMERICA NATL ASSOC        CA   \n",
       "freq            113  1569     13                         263       741   \n",
       "\n",
       "         NAICS NewExist FranchiseCode UrbanRural RevLineCr LowDoc  \n",
       "count     1569     1569          1569       1569      1569   1569  \n",
       "unique      24        2            29          3         4      5  \n",
       "top     531210        1             1          1         Y      N  \n",
       "freq       588     1316          1068       1319       557   1533  "
      ]
     },
     "execution_count": 18,
     "metadata": {},
     "output_type": "execute_result"
    }
   ],
   "source": [
    "df_train.describe(include=[\"object\"])"
   ]
  },
  {
   "cell_type": "markdown",
   "metadata": {},
   "source": [
    "Abaixo, vemos a correlação entre as variáveis:"
   ]
  },
  {
   "cell_type": "code",
   "execution_count": 19,
   "metadata": {},
   "outputs": [
    {
     "data": {
      "text/plain": [
       "<matplotlib.axes._subplots.AxesSubplot at 0x7fcc07f7d0f0>"
      ]
     },
     "execution_count": 19,
     "metadata": {},
     "output_type": "execute_result"
    },
    {
     "data": {
      "image/png": "[encoded data removed]",
      "text/plain": [
       "<Figure size 576x432 with 2 Axes>"
      ]
     },
     "metadata": {
      "needs_background": "light"
     },
     "output_type": "display_data"
    }
   ],
   "source": [
    "fig, ax = plt.subplots(figsize=(8, 6))\n",
    "\n",
    "corr = df_train.select_dtypes(include=np.number).corr()\n",
    "# mask = np.zeros_like(corr).diagonal()\n",
    "# mask[np.triu_indices_from(mask)] = True\n",
    "\n",
    "sns.heatmap(\n",
    "    corr, annot=True, fmt=\".2f\", ax=ax, square=True, cmap=\"coolwarm_r\", vmin=-1, vmax=1\n",
    ")\n",
    "# ax.tick_params(colors=\"white\")\n",
    "# ax.collections[0].colorbar.ax.tick_params(colors=\"white\")"
   ]
  },
  {
   "cell_type": "markdown",
   "metadata": {},
   "source": [
    "Há algumas variáveis fortemente correlacionadas como `Term`e `daysterm`. Isso era de se esprera já que `Term` é o número de meses de duração do empréstimo e `daysterm`, o tempo em dias."
   ]
  },
  {
   "cell_type": "code",
   "execution_count": 20,
   "metadata": {},
   "outputs": [
    {
     "data": {
      "text/plain": [
       "<seaborn.axisgrid.PairGrid at 0x7fcc07d8d7b8>"
      ]
     },
     "execution_count": 20,
     "metadata": {},
     "output_type": "execute_result"
    },
    {
     "data": {
      "image/png": "[encoded data removed]",
      "text/plain": [
       "<Figure size 404.75x360 with 6 Axes>"
      ]
     },
     "metadata": {
      "needs_background": "light"
     },
     "output_type": "display_data"
    }
   ],
   "source": [
    "sns.pairplot(\n",
    "    df_train,\n",
    "    vars=[\"daysterm\", \"Term\"],\n",
    "    hue=\"Default\",\n",
    "    markers=[\"o\", \"s\"],\n",
    "    plot_kws=dict(s=50, alpha=0.6),\n",
    ")"
   ]
  },
  {
   "cell_type": "markdown",
   "metadata": {},
   "source": [
    "Outras variáveis fortemente correlacionadas são mostradas abaixo:"
   ]
  },
  {
   "cell_type": "code",
   "execution_count": 21,
   "metadata": {},
   "outputs": [
    {
     "name": "stderr",
     "output_type": "stream",
     "text": [
      "/home/gbra/anaconda3/envs/tech_talk/lib/python3.7/site-packages/seaborn/axisgrid.py:2065: UserWarning: The `size` parameter has been renamed to `height`; pleaes update your code.\n",
      "  warnings.warn(msg, UserWarning)\n"
     ]
    },
    {
     "data": {
      "text/plain": [
       "<seaborn.axisgrid.PairGrid at 0x7fcc06433828>"
      ]
     },
     "execution_count": 21,
     "metadata": {},
     "output_type": "execute_result"
    },
    {
     "data": {
      "image/png": "[encoded data removed]",
      "text/plain": [
       "<Figure size 476.75x432 with 12 Axes>"
      ]
     },
     "metadata": {
      "needs_background": "light"
     },
     "output_type": "display_data"
    }
   ],
   "source": [
    "sns.pairplot(\n",
    "    df_train,\n",
    "    vars=[\"DisbursementGross\", \"GrAppv\", \"SBA_Appv\"],\n",
    "    hue=\"Default\",\n",
    "    markers=[\"o\", \"s\"],\n",
    "    plot_kws=dict(s=50, alpha=0.6),\n",
    "    size=2,\n",
    ")"
   ]
  },
  {
   "cell_type": "markdown",
   "metadata": {},
   "source": [
    "## Preparando dados para Modelagem"
   ]
  },
  {
   "cell_type": "markdown",
   "metadata": {},
   "source": [
    "Para a modelagem, utilizarei só algumas variáveis que foram escolhidas pela análise anterior e um pouco de bom-senso. Numa aplicação real, seria interessante usar uma metodologia mais quantitativa e/ou uma redução de dimensionalidade (e.g., PCA)."
   ]
  },
  {
   "cell_type": "code",
   "execution_count": 22,
   "metadata": {},
   "outputs": [
    {
     "data": {
      "text/plain": [
       "City                                     SUNLAND\n",
       "Zip                                        91040\n",
       "Bank                 WELLS FARGO BANK NATL ASSOC\n",
       "BankState                                     SD\n",
       "NAICS                                     531210\n",
       "NoEmp                                          1\n",
       "NewExist                                       1\n",
       "CreateJob                                      1\n",
       "RetainedJob                                    2\n",
       "FranchiseCode                                  1\n",
       "UrbanRural                                     1\n",
       "RevLineCr                                      Y\n",
       "LowDoc                                         N\n",
       "DisbursementGross                          97836\n",
       "GrAppv                                     50000\n",
       "SBA_Appv                                   25000\n",
       "New                                        False\n",
       "RealEstate                                 False\n",
       "Portion                                      0.5\n",
       "Recession                                  False\n",
       "Term                                          26\n",
       "Name: 2155836004, dtype: object"
      ]
     },
     "execution_count": 22,
     "metadata": {},
     "output_type": "execute_result"
    }
   ],
   "source": [
    "my_features = [\n",
    "    \"City\",\n",
    "    \"Zip\",\n",
    "    \"Bank\",\n",
    "    \"BankState\",\n",
    "    \"NAICS\",\n",
    "    \"NoEmp\",\n",
    "    \"NewExist\",\n",
    "    \"CreateJob\",\n",
    "    \"RetainedJob\",\n",
    "    \"FranchiseCode\",\n",
    "    \"UrbanRural\",\n",
    "    \"RevLineCr\",\n",
    "    \"LowDoc\",\n",
    "    \"DisbursementGross\",\n",
    "    \"GrAppv\",\n",
    "    \"SBA_Appv\",\n",
    "    \"New\",\n",
    "    \"RealEstate\",\n",
    "    \"Portion\",\n",
    "    \"Recession\",\n",
    "    \"Term\",\n",
    "]\n",
    "X_train[my_features].iloc[0]"
   ]
  },
  {
   "cell_type": "markdown",
   "metadata": {},
   "source": [
    "Em seguida, criamos alguns estimadores para compor o nosso pipeline de pré-processamento."
   ]
  },
  {
   "cell_type": "code",
   "execution_count": 23,
   "metadata": {},
   "outputs": [],
   "source": [
    "class ColumnSelector(BaseEstimator, TransformerMixin):\n",
    "    def __init__(self, columns):\n",
    "        self.columns = columns\n",
    "\n",
    "    def fit(self, X, y=None):\n",
    "        return self\n",
    "\n",
    "    def transform(self, X):\n",
    "        assert isinstance(X, pd.DataFrame)\n",
    "\n",
    "        try:\n",
    "            return X[self.columns]\n",
    "        except KeyError:\n",
    "            cols_error = list(set(self.columns) - set(X.columns))\n",
    "            raise KeyError(\n",
    "                \"The DataFrame does not include the columns: %s\" % cols_error\n",
    "            )\n",
    "\n",
    "\n",
    "class TypeSelector(BaseEstimator, TransformerMixin):\n",
    "    def __init__(self, dtype):\n",
    "        self.dtype = dtype\n",
    "\n",
    "    def fit(self, X, y=None):\n",
    "        return self\n",
    "\n",
    "    def transform(self, X):\n",
    "        assert isinstance(X, pd.DataFrame)\n",
    "        return X.select_dtypes(include=self.dtype)\n",
    "\n",
    "\n",
    "class NotNanSelector(BaseEstimator, TransformerMixin):\n",
    "    def __init__(self, dtype):\n",
    "        self.dtype = dtype\n",
    "\n",
    "    def fit(self, X, y=None):\n",
    "        return self\n",
    "\n",
    "    def transform(self, X):\n",
    "        assert isinstance(X, pd.DataFrame)\n",
    "        return X.select_dtypes(include=self.dtype)"
   ]
  },
  {
   "cell_type": "markdown",
   "metadata": {},
   "source": [
    "Em seguida, definimos o pipeline de préprocessamento:\n",
    "\n",
    "1. Seleciona apenas as variáveis de interesse:\n",
    "2. Para as variáveis numéricas, padroniza com MinMaxScaler.\n",
    "3. Para as variáveis categóricas, aplica one-hot encoding."
   ]
  },
  {
   "cell_type": "code",
   "execution_count": 24,
   "metadata": {},
   "outputs": [],
   "source": [
    "preprocess_pipeline = make_pipeline(\n",
    "    ColumnSelector(columns=my_features),\n",
    "    FeatureUnion(\n",
    "        transformer_list=[\n",
    "            (\n",
    "                \"numeric_features\",\n",
    "                make_pipeline(TypeSelector(np.number), MinMaxScaler()),\n",
    "            ),\n",
    "            (\n",
    "                \"categorical_features\",\n",
    "                make_pipeline(\n",
    "                    TypeSelector([\"object\", bool]),\n",
    "                    OneHotEncoder(handle_unknown=\"ignore\"),\n",
    "                ),\n",
    "            ),\n",
    "        ]\n",
    "    ),\n",
    ")"
   ]
  },
  {
   "cell_type": "markdown",
   "metadata": {},
   "source": [
    "## Modelagem"
   ]
  },
  {
   "cell_type": "markdown",
   "metadata": {},
   "source": [
    "Para a modelagem, escolhi os seguintes modelos:\n",
    "* Aleatório (se bem que não podemos chamá-lo de modelo...)\n",
    "* Regressão Logística\n",
    "* Support Vector Classifier\n",
    "* Random Forests\n",
    "* XGBoost\n",
    "\n",
    "E estarei utilizando Validação Cruzada com Grid Search para otimização dos hiper-parâmetros. Estarei otimizando a métrica Recall pois meu objetivo é priorizar os inadimplentes diminuindo os falsos negativos."
   ]
  },
  {
   "cell_type": "code",
   "execution_count": 25,
   "metadata": {},
   "outputs": [],
   "source": [
    "# Constantes\n",
    "\n",
    "K_FOLDS = 3  # Número de dobras na Validação Cruzada"
   ]
  },
  {
   "cell_type": "markdown",
   "metadata": {},
   "source": [
    "### Dummy Classifier - Random"
   ]
  },
  {
   "cell_type": "code",
   "execution_count": 26,
   "metadata": {},
   "outputs": [
    {
     "data": {
      "text/plain": [
       "GridSearchCV(cv=3, error_score='raise-deprecating',\n",
       "             estimator=Pipeline(memory=None,\n",
       "                                steps=[('pre',\n",
       "                                        Pipeline(memory=None,\n",
       "                                                 steps=[('columnselector',\n",
       "                                                         ColumnSelector(columns=['City',\n",
       "                                                                                 'Zip',\n",
       "                                                                                 'Bank',\n",
       "                                                                                 'BankState',\n",
       "                                                                                 'NAICS',\n",
       "                                                                                 'NoEmp',\n",
       "                                                                                 'NewExist',\n",
       "                                                                                 'CreateJob',\n",
       "                                                                                 'RetainedJob',\n",
       "                                                                                 'FranchiseCode',\n",
       "                                                                                 'UrbanRural',\n",
       "                                                                                 'RevLineCr',\n",
       "                                                                                 'LowDoc',\n",
       "                                                                                 'DisbursementGross',\n",
       "                                                                                 'GrAppv',\n",
       "                                                                                 'SBA_Appv',\n",
       "                                                                                 'New',\n",
       "                                                                                 'Rea...\n",
       "                                                                                                                        handle_unknown='ignore',\n",
       "                                                                                                                        n_values=None,\n",
       "                                                                                                                        sparse=True))],\n",
       "                                                                                                  verbose=False))],\n",
       "                                                                      transformer_weights=None,\n",
       "                                                                      verbose=False))],\n",
       "                                                 verbose=False)),\n",
       "                                       ('clf',\n",
       "                                        DummyClassifier(constant=None,\n",
       "                                                        random_state=42,\n",
       "                                                        strategy='stratified'))],\n",
       "                                verbose=False),\n",
       "             iid='warn', n_jobs=-1, param_grid=[{'clf__strategy': ['uniform']}],\n",
       "             pre_dispatch='2*n_jobs', refit=True, return_train_score=False,\n",
       "             scoring='recall', verbose=0)"
      ]
     },
     "execution_count": 26,
     "metadata": {},
     "output_type": "execute_result"
    }
   ],
   "source": [
    "param_grid = [{\"clf__strategy\": [\"uniform\"]}]\n",
    "\n",
    "random_pipeline = Pipeline(\n",
    "    steps=[(\"pre\", preprocess_pipeline), (\"clf\", DummyClassifier(random_state=42))]\n",
    ")\n",
    "\n",
    "\n",
    "random_clf = GridSearchCV(\n",
    "    random_pipeline, param_grid, scoring=\"recall\", cv=K_FOLDS, n_jobs=-1\n",
    ")\n",
    "random_clf.fit(X_train, y_train.values)"
   ]
  },
  {
   "cell_type": "code",
   "execution_count": 27,
   "metadata": {},
   "outputs": [
    {
     "name": "stdout",
     "output_type": "stream",
     "text": [
      "Recall of 0.514 for {'clf__strategy': 'uniform'}\n"
     ]
    }
   ],
   "source": [
    "show_best_results(random_clf)"
   ]
  },
  {
   "cell_type": "code",
   "execution_count": 28,
   "metadata": {},
   "outputs": [
    {
     "name": "stdout",
     "output_type": "stream",
     "text": [
      "              precision    recall  f1-score   support\n",
      "\n",
      "           0       0.67      0.49      0.56      1055\n",
      "           1       0.33      0.51      0.40       514\n",
      "\n",
      "    accuracy                           0.50      1569\n",
      "   macro avg       0.50      0.50      0.48      1569\n",
      "weighted avg       0.56      0.50      0.51      1569\n",
      "\n"
     ]
    },
    {
     "data": {
      "text/plain": [
       "(<Figure size 432x288 with 2 Axes>,\n",
       " <matplotlib.axes._subplots.AxesSubplot at 0x7fcc05febb00>)"
      ]
     },
     "metadata": {},
     "output_type": "display_data"
    },
    {
     "data": {
      "image/png": "[encoded data removed]",
      "text/plain": [
       "<Figure size 432x288 with 2 Axes>"
      ]
     },
     "metadata": {
      "needs_background": "light"
     },
     "output_type": "display_data"
    }
   ],
   "source": [
    "report(random_clf.best_estimator_, X_train, y_train.values)"
   ]
  },
  {
   "cell_type": "markdown",
   "metadata": {},
   "source": [
    "### Regressão Logística"
   ]
  },
  {
   "cell_type": "code",
   "execution_count": 29,
   "metadata": {},
   "outputs": [
    {
     "name": "stdout",
     "output_type": "stream",
     "text": [
      "CPU times: user 829 ms, sys: 77 ms, total: 906 ms\n",
      "Wall time: 4.43 s\n"
     ]
    },
    {
     "data": {
      "text/plain": [
       "GridSearchCV(cv=3, error_score='raise-deprecating',\n",
       "             estimator=Pipeline(memory=None,\n",
       "                                steps=[('pre',\n",
       "                                        Pipeline(memory=None,\n",
       "                                                 steps=[('columnselector',\n",
       "                                                         ColumnSelector(columns=['City',\n",
       "                                                                                 'Zip',\n",
       "                                                                                 'Bank',\n",
       "                                                                                 'BankState',\n",
       "                                                                                 'NAICS',\n",
       "                                                                                 'NoEmp',\n",
       "                                                                                 'NewExist',\n",
       "                                                                                 'CreateJob',\n",
       "                                                                                 'RetainedJob',\n",
       "                                                                                 'FranchiseCode',\n",
       "                                                                                 'UrbanRural',\n",
       "                                                                                 'RevLineCr',\n",
       "                                                                                 'LowDoc',\n",
       "                                                                                 'DisbursementGross',\n",
       "                                                                                 'GrAppv',\n",
       "                                                                                 'SBA_Appv',\n",
       "                                                                                 'New',\n",
       "                                                                                 'Rea...\n",
       "                                                           n_jobs=None,\n",
       "                                                           penalty='l2',\n",
       "                                                           random_state=42,\n",
       "                                                           solver='warn',\n",
       "                                                           tol=0.0001,\n",
       "                                                           verbose=0,\n",
       "                                                           warm_start=False))],\n",
       "                                verbose=False),\n",
       "             iid='warn', n_jobs=-1,\n",
       "             param_grid={'clf__C': array([1.e-03, 1.e-02, 1.e-01, 1.e+00, 1.e+01, 1.e+02, 1.e+03]),\n",
       "                         'clf__penalty': ['l1', 'l2'],\n",
       "                         'clf__solver': ['liblinear']},\n",
       "             pre_dispatch='2*n_jobs', refit=True, return_train_score=False,\n",
       "             scoring='recall', verbose=0)"
      ]
     },
     "execution_count": 29,
     "metadata": {},
     "output_type": "execute_result"
    }
   ],
   "source": [
    "%%time\n",
    "param_grid = {\n",
    "    \"clf__penalty\": [\"l1\", \"l2\"],\n",
    "    \"clf__C\": np.logspace(-3, 3, 7),\n",
    "    \"clf__solver\": [\"liblinear\"],\n",
    "}\n",
    "\n",
    "logit_pipeline = Pipeline(\n",
    "    steps=[\n",
    "        (\"pre\", preprocess_pipeline),\n",
    "        (\"clf\", LogisticRegression(random_state=42)),\n",
    "    ]\n",
    ")\n",
    "\n",
    "\n",
    "logit_clf = GridSearchCV(\n",
    "    logit_pipeline, param_grid, scoring=\"recall\", cv=K_FOLDS, n_jobs=-1\n",
    ")\n",
    "logit_clf.fit(X_train, y_train.values)"
   ]
  },
  {
   "cell_type": "code",
   "execution_count": 30,
   "metadata": {},
   "outputs": [
    {
     "name": "stdout",
     "output_type": "stream",
     "text": [
      "Recall of 0.803 for {'clf__C': 1.0, 'clf__penalty': 'l1', 'clf__solver': 'liblinear'}\n"
     ]
    }
   ],
   "source": [
    "show_best_results(logit_clf)"
   ]
  },
  {
   "cell_type": "code",
   "execution_count": 31,
   "metadata": {},
   "outputs": [
    {
     "data": {
      "text/html": [
       "<style  type=\"text/css\" >\n",
       "    #T_3d4e12ba_0bd8_11ea_b01c_b888e33440c4row0_col0 {\n",
       "            background-color:  #f7fbff;\n",
       "            color:  #000000;\n",
       "        }    #T_3d4e12ba_0bd8_11ea_b01c_b888e33440c4row0_col1 {\n",
       "            background-color:  #f7fbff;\n",
       "            color:  #000000;\n",
       "        }    #T_3d4e12ba_0bd8_11ea_b01c_b888e33440c4row1_col0 {\n",
       "            background-color:  #f7fbff;\n",
       "            color:  #000000;\n",
       "        }    #T_3d4e12ba_0bd8_11ea_b01c_b888e33440c4row1_col1 {\n",
       "            background-color:  #61a7d2;\n",
       "            color:  #000000;\n",
       "        }    #T_3d4e12ba_0bd8_11ea_b01c_b888e33440c4row2_col0 {\n",
       "            background-color:  #2676b8;\n",
       "            color:  #000000;\n",
       "        }    #T_3d4e12ba_0bd8_11ea_b01c_b888e33440c4row2_col1 {\n",
       "            background-color:  #1561a9;\n",
       "            color:  #f1f1f1;\n",
       "        }    #T_3d4e12ba_0bd8_11ea_b01c_b888e33440c4row3_col0 {\n",
       "            background-color:  #08306b;\n",
       "            color:  #f1f1f1;\n",
       "        }    #T_3d4e12ba_0bd8_11ea_b01c_b888e33440c4row3_col1 {\n",
       "            background-color:  #084e98;\n",
       "            color:  #f1f1f1;\n",
       "        }    #T_3d4e12ba_0bd8_11ea_b01c_b888e33440c4row4_col0 {\n",
       "            background-color:  #083776;\n",
       "            color:  #f1f1f1;\n",
       "        }    #T_3d4e12ba_0bd8_11ea_b01c_b888e33440c4row4_col1 {\n",
       "            background-color:  #084b93;\n",
       "            color:  #f1f1f1;\n",
       "        }    #T_3d4e12ba_0bd8_11ea_b01c_b888e33440c4row5_col0 {\n",
       "            background-color:  #084184;\n",
       "            color:  #f1f1f1;\n",
       "        }    #T_3d4e12ba_0bd8_11ea_b01c_b888e33440c4row5_col1 {\n",
       "            background-color:  #08468b;\n",
       "            color:  #f1f1f1;\n",
       "        }    #T_3d4e12ba_0bd8_11ea_b01c_b888e33440c4row6_col0 {\n",
       "            background-color:  #084c95;\n",
       "            color:  #f1f1f1;\n",
       "        }    #T_3d4e12ba_0bd8_11ea_b01c_b888e33440c4row6_col1 {\n",
       "            background-color:  #084990;\n",
       "            color:  #f1f1f1;\n",
       "        }</style><table id=\"T_3d4e12ba_0bd8_11ea_b01c_b888e33440c4\" ><thead>    <tr>        <th class=\"index_name level0\" >param_clf__penalty</th>        <th class=\"col_heading level0 col0\" >l1</th>        <th class=\"col_heading level0 col1\" >l2</th>    </tr>    <tr>        <th class=\"index_name level0\" >param_clf__C</th>        <th class=\"blank\" ></th>        <th class=\"blank\" ></th>    </tr></thead><tbody>\n",
       "                <tr>\n",
       "                        <th id=\"T_3d4e12ba_0bd8_11ea_b01c_b888e33440c4level0_row0\" class=\"row_heading level0 row0\" >0.001</th>\n",
       "                        <td id=\"T_3d4e12ba_0bd8_11ea_b01c_b888e33440c4row0_col0\" class=\"data row0 col0\" >0</td>\n",
       "                        <td id=\"T_3d4e12ba_0bd8_11ea_b01c_b888e33440c4row0_col1\" class=\"data row0 col1\" >0</td>\n",
       "            </tr>\n",
       "            <tr>\n",
       "                        <th id=\"T_3d4e12ba_0bd8_11ea_b01c_b888e33440c4level0_row1\" class=\"row_heading level0 row1\" >0.01</th>\n",
       "                        <td id=\"T_3d4e12ba_0bd8_11ea_b01c_b888e33440c4row1_col0\" class=\"data row1 col0\" >0</td>\n",
       "                        <td id=\"T_3d4e12ba_0bd8_11ea_b01c_b888e33440c4row1_col1\" class=\"data row1 col1\" >0.426</td>\n",
       "            </tr>\n",
       "            <tr>\n",
       "                        <th id=\"T_3d4e12ba_0bd8_11ea_b01c_b888e33440c4level0_row2\" class=\"row_heading level0 row2\" >0.1</th>\n",
       "                        <td id=\"T_3d4e12ba_0bd8_11ea_b01c_b888e33440c4row2_col0\" class=\"data row2 col0\" >0.584</td>\n",
       "                        <td id=\"T_3d4e12ba_0bd8_11ea_b01c_b888e33440c4row2_col1\" class=\"data row2 col1\" >0.652</td>\n",
       "            </tr>\n",
       "            <tr>\n",
       "                        <th id=\"T_3d4e12ba_0bd8_11ea_b01c_b888e33440c4level0_row3\" class=\"row_heading level0 row3\" >1.0</th>\n",
       "                        <td id=\"T_3d4e12ba_0bd8_11ea_b01c_b888e33440c4row3_col0\" class=\"data row3 col0\" >0.803</td>\n",
       "                        <td id=\"T_3d4e12ba_0bd8_11ea_b01c_b888e33440c4row3_col1\" class=\"data row3 col1\" >0.712</td>\n",
       "            </tr>\n",
       "            <tr>\n",
       "                        <th id=\"T_3d4e12ba_0bd8_11ea_b01c_b888e33440c4level0_row4\" class=\"row_heading level0 row4\" >10.0</th>\n",
       "                        <td id=\"T_3d4e12ba_0bd8_11ea_b01c_b888e33440c4row4_col0\" class=\"data row4 col0\" >0.778</td>\n",
       "                        <td id=\"T_3d4e12ba_0bd8_11ea_b01c_b888e33440c4row4_col1\" class=\"data row4 col1\" >0.72</td>\n",
       "            </tr>\n",
       "            <tr>\n",
       "                        <th id=\"T_3d4e12ba_0bd8_11ea_b01c_b888e33440c4level0_row5\" class=\"row_heading level0 row5\" >100.0</th>\n",
       "                        <td id=\"T_3d4e12ba_0bd8_11ea_b01c_b888e33440c4row5_col0\" class=\"data row5 col0\" >0.751</td>\n",
       "                        <td id=\"T_3d4e12ba_0bd8_11ea_b01c_b888e33440c4row5_col1\" class=\"data row5 col1\" >0.737</td>\n",
       "            </tr>\n",
       "            <tr>\n",
       "                        <th id=\"T_3d4e12ba_0bd8_11ea_b01c_b888e33440c4level0_row6\" class=\"row_heading level0 row6\" >1000.0</th>\n",
       "                        <td id=\"T_3d4e12ba_0bd8_11ea_b01c_b888e33440c4row6_col0\" class=\"data row6 col0\" >0.716</td>\n",
       "                        <td id=\"T_3d4e12ba_0bd8_11ea_b01c_b888e33440c4row6_col1\" class=\"data row6 col1\" >0.726</td>\n",
       "            </tr>\n",
       "    </tbody></table>"
      ],
      "text/plain": [
       "<pandas.io.formats.style.Styler at 0x7fcc05f43a20>"
      ]
     },
     "execution_count": 31,
     "metadata": {},
     "output_type": "execute_result"
    }
   ],
   "source": [
    "grid_results(logit_clf, \"clf__C\", \"clf__penalty\")"
   ]
  },
  {
   "cell_type": "code",
   "execution_count": 32,
   "metadata": {},
   "outputs": [
    {
     "name": "stdout",
     "output_type": "stream",
     "text": [
      "              precision    recall  f1-score   support\n",
      "\n",
      "           0       0.91      0.91      0.91      1055\n",
      "           1       0.82      0.80      0.81       514\n",
      "\n",
      "    accuracy                           0.88      1569\n",
      "   macro avg       0.86      0.86      0.86      1569\n",
      "weighted avg       0.88      0.88      0.88      1569\n",
      "\n"
     ]
    },
    {
     "data": {
      "text/plain": [
       "(<Figure size 432x288 with 2 Axes>,\n",
       " <matplotlib.axes._subplots.AxesSubplot at 0x7fcc27f7de80>)"
      ]
     },
     "metadata": {},
     "output_type": "display_data"
    },
    {
     "data": {
      "image/png": "[encoded data removed]",
      "text/plain": [
       "<Figure size 432x288 with 2 Axes>"
      ]
     },
     "metadata": {
      "needs_background": "light"
     },
     "output_type": "display_data"
    }
   ],
   "source": [
    "report(logit_clf.best_estimator_, X_train, y_train.values)"
   ]
  },
  {
   "cell_type": "markdown",
   "metadata": {},
   "source": [
    "### Support Vector Classifier"
   ]
  },
  {
   "cell_type": "code",
   "execution_count": 33,
   "metadata": {},
   "outputs": [
    {
     "data": {
      "text/plain": [
       "GridSearchCV(cv=3, error_score='raise-deprecating',\n",
       "             estimator=Pipeline(memory=None,\n",
       "                                steps=[('pre',\n",
       "                                        Pipeline(memory=None,\n",
       "                                                 steps=[('columnselector',\n",
       "                                                         ColumnSelector(columns=['City',\n",
       "                                                                                 'Zip',\n",
       "                                                                                 'Bank',\n",
       "                                                                                 'BankState',\n",
       "                                                                                 'NAICS',\n",
       "                                                                                 'NoEmp',\n",
       "                                                                                 'NewExist',\n",
       "                                                                                 'CreateJob',\n",
       "                                                                                 'RetainedJob',\n",
       "                                                                                 'FranchiseCode',\n",
       "                                                                                 'UrbanRural',\n",
       "                                                                                 'RevLineCr',\n",
       "                                                                                 'LowDoc',\n",
       "                                                                                 'DisbursementGross',\n",
       "                                                                                 'GrAppv',\n",
       "                                                                                 'SBA_Appv',\n",
       "                                                                                 'New',\n",
       "                                                                                 'Rea...\n",
       "                                            probability=False, random_state=42,\n",
       "                                            shrinking=True, tol=0.001,\n",
       "                                            verbose=False))],\n",
       "                                verbose=False),\n",
       "             iid='warn', n_jobs=-1,\n",
       "             param_grid={'clf__C': array([1.e+03, 1.e+04, 1.e+05, 1.e+06, 1.e+07, 1.e+08, 1.e+09, 1.e+10,\n",
       "       1.e+11]),\n",
       "                         'clf__gamma': array([1.e-05, 1.e-04, 1.e-03, 1.e-02, 1.e-01, 1.e+00])},\n",
       "             pre_dispatch='2*n_jobs', refit=True, return_train_score=False,\n",
       "             scoring='recall', verbose=0)"
      ]
     },
     "execution_count": 33,
     "metadata": {},
     "output_type": "execute_result"
    }
   ],
   "source": [
    "param_grid = {\"clf__gamma\": np.logspace(-5, 0, 6), \"clf__C\": np.logspace(3, 11, 9)}\n",
    "\n",
    "svc_pipeline = Pipeline(\n",
    "    steps=[(\"pre\", preprocess_pipeline), (\"clf\", SVC(random_state=42))]\n",
    ")\n",
    "\n",
    "\n",
    "svc_clf = GridSearchCV(\n",
    "    svc_pipeline, param_grid, scoring=\"recall\", cv=K_FOLDS, n_jobs=-1\n",
    ")\n",
    "svc_clf.fit(X_train, y_train.values)"
   ]
  },
  {
   "cell_type": "code",
   "execution_count": 34,
   "metadata": {},
   "outputs": [
    {
     "name": "stdout",
     "output_type": "stream",
     "text": [
      "Recall of 0.831 for {'clf__C': 10000.0, 'clf__gamma': 0.1}\n"
     ]
    }
   ],
   "source": [
    "show_best_results(svc_clf)"
   ]
  },
  {
   "cell_type": "code",
   "execution_count": 35,
   "metadata": {},
   "outputs": [
    {
     "data": {
      "text/html": [
       "<style  type=\"text/css\" >\n",
       "    #T_4c875ade_0bd8_11ea_b01c_b888e33440c4row0_col0 {\n",
       "            background-color:  #3a8ac2;\n",
       "            color:  #000000;\n",
       "        }    #T_4c875ade_0bd8_11ea_b01c_b888e33440c4row0_col1 {\n",
       "            background-color:  #08519c;\n",
       "            color:  #f1f1f1;\n",
       "        }    #T_4c875ade_0bd8_11ea_b01c_b888e33440c4row0_col2 {\n",
       "            background-color:  #08509b;\n",
       "            color:  #f1f1f1;\n",
       "        }    #T_4c875ade_0bd8_11ea_b01c_b888e33440c4row0_col3 {\n",
       "            background-color:  #084990;\n",
       "            color:  #f1f1f1;\n",
       "        }    #T_4c875ade_0bd8_11ea_b01c_b888e33440c4row0_col4 {\n",
       "            background-color:  #083471;\n",
       "            color:  #f1f1f1;\n",
       "        }    #T_4c875ade_0bd8_11ea_b01c_b888e33440c4row0_col5 {\n",
       "            background-color:  #f7fbff;\n",
       "            color:  #000000;\n",
       "        }    #T_4c875ade_0bd8_11ea_b01c_b888e33440c4row1_col0 {\n",
       "            background-color:  #08519c;\n",
       "            color:  #f1f1f1;\n",
       "        }    #T_4c875ade_0bd8_11ea_b01c_b888e33440c4row1_col1 {\n",
       "            background-color:  #08519c;\n",
       "            color:  #f1f1f1;\n",
       "        }    #T_4c875ade_0bd8_11ea_b01c_b888e33440c4row1_col2 {\n",
       "            background-color:  #084c95;\n",
       "            color:  #f1f1f1;\n",
       "        }    #T_4c875ade_0bd8_11ea_b01c_b888e33440c4row1_col3 {\n",
       "            background-color:  #083c7d;\n",
       "            color:  #f1f1f1;\n",
       "        }    #T_4c875ade_0bd8_11ea_b01c_b888e33440c4row1_col4 {\n",
       "            background-color:  #08306b;\n",
       "            color:  #f1f1f1;\n",
       "        }    #T_4c875ade_0bd8_11ea_b01c_b888e33440c4row1_col5 {\n",
       "            background-color:  #f7fbff;\n",
       "            color:  #000000;\n",
       "        }    #T_4c875ade_0bd8_11ea_b01c_b888e33440c4row2_col0 {\n",
       "            background-color:  #08519c;\n",
       "            color:  #f1f1f1;\n",
       "        }    #T_4c875ade_0bd8_11ea_b01c_b888e33440c4row2_col1 {\n",
       "            background-color:  #084b93;\n",
       "            color:  #f1f1f1;\n",
       "        }    #T_4c875ade_0bd8_11ea_b01c_b888e33440c4row2_col2 {\n",
       "            background-color:  #084e98;\n",
       "            color:  #f1f1f1;\n",
       "        }    #T_4c875ade_0bd8_11ea_b01c_b888e33440c4row2_col3 {\n",
       "            background-color:  #083979;\n",
       "            color:  #f1f1f1;\n",
       "        }    #T_4c875ade_0bd8_11ea_b01c_b888e33440c4row2_col4 {\n",
       "            background-color:  #08306b;\n",
       "            color:  #f1f1f1;\n",
       "        }    #T_4c875ade_0bd8_11ea_b01c_b888e33440c4row2_col5 {\n",
       "            background-color:  #f7fbff;\n",
       "            color:  #000000;\n",
       "        }    #T_4c875ade_0bd8_11ea_b01c_b888e33440c4row3_col0 {\n",
       "            background-color:  #084c95;\n",
       "            color:  #f1f1f1;\n",
       "        }    #T_4c875ade_0bd8_11ea_b01c_b888e33440c4row3_col1 {\n",
       "            background-color:  #08519c;\n",
       "            color:  #f1f1f1;\n",
       "        }    #T_4c875ade_0bd8_11ea_b01c_b888e33440c4row3_col2 {\n",
       "            background-color:  #084d96;\n",
       "            color:  #f1f1f1;\n",
       "        }    #T_4c875ade_0bd8_11ea_b01c_b888e33440c4row3_col3 {\n",
       "            background-color:  #083979;\n",
       "            color:  #f1f1f1;\n",
       "        }    #T_4c875ade_0bd8_11ea_b01c_b888e33440c4row3_col4 {\n",
       "            background-color:  #08306b;\n",
       "            color:  #f1f1f1;\n",
       "        }    #T_4c875ade_0bd8_11ea_b01c_b888e33440c4row3_col5 {\n",
       "            background-color:  #f7fbff;\n",
       "            color:  #000000;\n",
       "        }    #T_4c875ade_0bd8_11ea_b01c_b888e33440c4row4_col0 {\n",
       "            background-color:  #0e59a2;\n",
       "            color:  #f1f1f1;\n",
       "        }    #T_4c875ade_0bd8_11ea_b01c_b888e33440c4row4_col1 {\n",
       "            background-color:  #0e58a2;\n",
       "            color:  #f1f1f1;\n",
       "        }    #T_4c875ade_0bd8_11ea_b01c_b888e33440c4row4_col2 {\n",
       "            background-color:  #084d96;\n",
       "            color:  #f1f1f1;\n",
       "        }    #T_4c875ade_0bd8_11ea_b01c_b888e33440c4row4_col3 {\n",
       "            background-color:  #083979;\n",
       "            color:  #f1f1f1;\n",
       "        }    #T_4c875ade_0bd8_11ea_b01c_b888e33440c4row4_col4 {\n",
       "            background-color:  #08306b;\n",
       "            color:  #f1f1f1;\n",
       "        }    #T_4c875ade_0bd8_11ea_b01c_b888e33440c4row4_col5 {\n",
       "            background-color:  #f7fbff;\n",
       "            color:  #000000;\n",
       "        }    #T_4c875ade_0bd8_11ea_b01c_b888e33440c4row5_col0 {\n",
       "            background-color:  #125da6;\n",
       "            color:  #f1f1f1;\n",
       "        }    #T_4c875ade_0bd8_11ea_b01c_b888e33440c4row5_col1 {\n",
       "            background-color:  #0e58a2;\n",
       "            color:  #f1f1f1;\n",
       "        }    #T_4c875ade_0bd8_11ea_b01c_b888e33440c4row5_col2 {\n",
       "            background-color:  #084d96;\n",
       "            color:  #f1f1f1;\n",
       "        }    #T_4c875ade_0bd8_11ea_b01c_b888e33440c4row5_col3 {\n",
       "            background-color:  #083979;\n",
       "            color:  #f1f1f1;\n",
       "        }    #T_4c875ade_0bd8_11ea_b01c_b888e33440c4row5_col4 {\n",
       "            background-color:  #08306b;\n",
       "            color:  #f1f1f1;\n",
       "        }    #T_4c875ade_0bd8_11ea_b01c_b888e33440c4row5_col5 {\n",
       "            background-color:  #f7fbff;\n",
       "            color:  #000000;\n",
       "        }    #T_4c875ade_0bd8_11ea_b01c_b888e33440c4row6_col0 {\n",
       "            background-color:  #125ea6;\n",
       "            color:  #f1f1f1;\n",
       "        }    #T_4c875ade_0bd8_11ea_b01c_b888e33440c4row6_col1 {\n",
       "            background-color:  #0e58a2;\n",
       "            color:  #f1f1f1;\n",
       "        }    #T_4c875ade_0bd8_11ea_b01c_b888e33440c4row6_col2 {\n",
       "            background-color:  #084d96;\n",
       "            color:  #f1f1f1;\n",
       "        }    #T_4c875ade_0bd8_11ea_b01c_b888e33440c4row6_col3 {\n",
       "            background-color:  #083979;\n",
       "            color:  #f1f1f1;\n",
       "        }    #T_4c875ade_0bd8_11ea_b01c_b888e33440c4row6_col4 {\n",
       "            background-color:  #08306b;\n",
       "            color:  #f1f1f1;\n",
       "        }    #T_4c875ade_0bd8_11ea_b01c_b888e33440c4row6_col5 {\n",
       "            background-color:  #f7fbff;\n",
       "            color:  #000000;\n",
       "        }    #T_4c875ade_0bd8_11ea_b01c_b888e33440c4row7_col0 {\n",
       "            background-color:  #115ca5;\n",
       "            color:  #f1f1f1;\n",
       "        }    #T_4c875ade_0bd8_11ea_b01c_b888e33440c4row7_col1 {\n",
       "            background-color:  #0e58a2;\n",
       "            color:  #f1f1f1;\n",
       "        }    #T_4c875ade_0bd8_11ea_b01c_b888e33440c4row7_col2 {\n",
       "            background-color:  #084d96;\n",
       "            color:  #f1f1f1;\n",
       "        }    #T_4c875ade_0bd8_11ea_b01c_b888e33440c4row7_col3 {\n",
       "            background-color:  #083979;\n",
       "            color:  #f1f1f1;\n",
       "        }    #T_4c875ade_0bd8_11ea_b01c_b888e33440c4row7_col4 {\n",
       "            background-color:  #08306b;\n",
       "            color:  #f1f1f1;\n",
       "        }    #T_4c875ade_0bd8_11ea_b01c_b888e33440c4row7_col5 {\n",
       "            background-color:  #f7fbff;\n",
       "            color:  #000000;\n",
       "        }    #T_4c875ade_0bd8_11ea_b01c_b888e33440c4row8_col0 {\n",
       "            background-color:  #115ca5;\n",
       "            color:  #f1f1f1;\n",
       "        }    #T_4c875ade_0bd8_11ea_b01c_b888e33440c4row8_col1 {\n",
       "            background-color:  #0e58a2;\n",
       "            color:  #f1f1f1;\n",
       "        }    #T_4c875ade_0bd8_11ea_b01c_b888e33440c4row8_col2 {\n",
       "            background-color:  #084d96;\n",
       "            color:  #f1f1f1;\n",
       "        }    #T_4c875ade_0bd8_11ea_b01c_b888e33440c4row8_col3 {\n",
       "            background-color:  #083979;\n",
       "            color:  #f1f1f1;\n",
       "        }    #T_4c875ade_0bd8_11ea_b01c_b888e33440c4row8_col4 {\n",
       "            background-color:  #08306b;\n",
       "            color:  #f1f1f1;\n",
       "        }    #T_4c875ade_0bd8_11ea_b01c_b888e33440c4row8_col5 {\n",
       "            background-color:  #f7fbff;\n",
       "            color:  #000000;\n",
       "        }</style><table id=\"T_4c875ade_0bd8_11ea_b01c_b888e33440c4\" ><thead>    <tr>        <th class=\"index_name level0\" >param_clf__gamma</th>        <th class=\"col_heading level0 col0\" >1e-05</th>        <th class=\"col_heading level0 col1\" >0.0001</th>        <th class=\"col_heading level0 col2\" >0.001</th>        <th class=\"col_heading level0 col3\" >0.01</th>        <th class=\"col_heading level0 col4\" >0.1</th>        <th class=\"col_heading level0 col5\" >1.0</th>    </tr>    <tr>        <th class=\"index_name level0\" >param_clf__C</th>        <th class=\"blank\" ></th>        <th class=\"blank\" ></th>        <th class=\"blank\" ></th>        <th class=\"blank\" ></th>        <th class=\"blank\" ></th>        <th class=\"blank\" ></th>    </tr></thead><tbody>\n",
       "                <tr>\n",
       "                        <th id=\"T_4c875ade_0bd8_11ea_b01c_b888e33440c4level0_row0\" class=\"row_heading level0 row0\" >1000.0</th>\n",
       "                        <td id=\"T_4c875ade_0bd8_11ea_b01c_b888e33440c4row0_col0\" class=\"data row0 col0\" >0.584</td>\n",
       "                        <td id=\"T_4c875ade_0bd8_11ea_b01c_b888e33440c4row0_col1\" class=\"data row0 col1\" >0.739</td>\n",
       "                        <td id=\"T_4c875ade_0bd8_11ea_b01c_b888e33440c4row0_col2\" class=\"data row0 col2\" >0.743</td>\n",
       "                        <td id=\"T_4c875ade_0bd8_11ea_b01c_b888e33440c4row0_col3\" class=\"data row0 col3\" >0.761</td>\n",
       "                        <td id=\"T_4c875ade_0bd8_11ea_b01c_b888e33440c4row0_col4\" class=\"data row0 col4\" >0.819</td>\n",
       "                        <td id=\"T_4c875ade_0bd8_11ea_b01c_b888e33440c4row0_col5\" class=\"data row0 col5\" >0.113</td>\n",
       "            </tr>\n",
       "            <tr>\n",
       "                        <th id=\"T_4c875ade_0bd8_11ea_b01c_b888e33440c4level0_row1\" class=\"row_heading level0 row1\" >10000.0</th>\n",
       "                        <td id=\"T_4c875ade_0bd8_11ea_b01c_b888e33440c4row1_col0\" class=\"data row1 col0\" >0.739</td>\n",
       "                        <td id=\"T_4c875ade_0bd8_11ea_b01c_b888e33440c4row1_col1\" class=\"data row1 col1\" >0.741</td>\n",
       "                        <td id=\"T_4c875ade_0bd8_11ea_b01c_b888e33440c4row1_col2\" class=\"data row1 col2\" >0.755</td>\n",
       "                        <td id=\"T_4c875ade_0bd8_11ea_b01c_b888e33440c4row1_col3\" class=\"data row1 col3\" >0.796</td>\n",
       "                        <td id=\"T_4c875ade_0bd8_11ea_b01c_b888e33440c4row1_col4\" class=\"data row1 col4\" >0.831</td>\n",
       "                        <td id=\"T_4c875ade_0bd8_11ea_b01c_b888e33440c4row1_col5\" class=\"data row1 col5\" >0.113</td>\n",
       "            </tr>\n",
       "            <tr>\n",
       "                        <th id=\"T_4c875ade_0bd8_11ea_b01c_b888e33440c4level0_row2\" class=\"row_heading level0 row2\" >100000.0</th>\n",
       "                        <td id=\"T_4c875ade_0bd8_11ea_b01c_b888e33440c4row2_col0\" class=\"data row2 col0\" >0.741</td>\n",
       "                        <td id=\"T_4c875ade_0bd8_11ea_b01c_b888e33440c4row2_col1\" class=\"data row2 col1\" >0.757</td>\n",
       "                        <td id=\"T_4c875ade_0bd8_11ea_b01c_b888e33440c4row2_col2\" class=\"data row2 col2\" >0.749</td>\n",
       "                        <td id=\"T_4c875ade_0bd8_11ea_b01c_b888e33440c4row2_col3\" class=\"data row2 col3\" >0.803</td>\n",
       "                        <td id=\"T_4c875ade_0bd8_11ea_b01c_b888e33440c4row2_col4\" class=\"data row2 col4\" >0.831</td>\n",
       "                        <td id=\"T_4c875ade_0bd8_11ea_b01c_b888e33440c4row2_col5\" class=\"data row2 col5\" >0.113</td>\n",
       "            </tr>\n",
       "            <tr>\n",
       "                        <th id=\"T_4c875ade_0bd8_11ea_b01c_b888e33440c4level0_row3\" class=\"row_heading level0 row3\" >1000000.0</th>\n",
       "                        <td id=\"T_4c875ade_0bd8_11ea_b01c_b888e33440c4row3_col0\" class=\"data row3 col0\" >0.755</td>\n",
       "                        <td id=\"T_4c875ade_0bd8_11ea_b01c_b888e33440c4row3_col1\" class=\"data row3 col1\" >0.739</td>\n",
       "                        <td id=\"T_4c875ade_0bd8_11ea_b01c_b888e33440c4row3_col2\" class=\"data row3 col2\" >0.751</td>\n",
       "                        <td id=\"T_4c875ade_0bd8_11ea_b01c_b888e33440c4row3_col3\" class=\"data row3 col3\" >0.803</td>\n",
       "                        <td id=\"T_4c875ade_0bd8_11ea_b01c_b888e33440c4row3_col4\" class=\"data row3 col4\" >0.831</td>\n",
       "                        <td id=\"T_4c875ade_0bd8_11ea_b01c_b888e33440c4row3_col5\" class=\"data row3 col5\" >0.113</td>\n",
       "            </tr>\n",
       "            <tr>\n",
       "                        <th id=\"T_4c875ade_0bd8_11ea_b01c_b888e33440c4level0_row4\" class=\"row_heading level0 row4\" >10000000.0</th>\n",
       "                        <td id=\"T_4c875ade_0bd8_11ea_b01c_b888e33440c4row4_col0\" class=\"data row4 col0\" >0.718</td>\n",
       "                        <td id=\"T_4c875ade_0bd8_11ea_b01c_b888e33440c4row4_col1\" class=\"data row4 col1\" >0.72</td>\n",
       "                        <td id=\"T_4c875ade_0bd8_11ea_b01c_b888e33440c4row4_col2\" class=\"data row4 col2\" >0.751</td>\n",
       "                        <td id=\"T_4c875ade_0bd8_11ea_b01c_b888e33440c4row4_col3\" class=\"data row4 col3\" >0.803</td>\n",
       "                        <td id=\"T_4c875ade_0bd8_11ea_b01c_b888e33440c4row4_col4\" class=\"data row4 col4\" >0.831</td>\n",
       "                        <td id=\"T_4c875ade_0bd8_11ea_b01c_b888e33440c4row4_col5\" class=\"data row4 col5\" >0.113</td>\n",
       "            </tr>\n",
       "            <tr>\n",
       "                        <th id=\"T_4c875ade_0bd8_11ea_b01c_b888e33440c4level0_row5\" class=\"row_heading level0 row5\" >100000000.0</th>\n",
       "                        <td id=\"T_4c875ade_0bd8_11ea_b01c_b888e33440c4row5_col0\" class=\"data row5 col0\" >0.706</td>\n",
       "                        <td id=\"T_4c875ade_0bd8_11ea_b01c_b888e33440c4row5_col1\" class=\"data row5 col1\" >0.72</td>\n",
       "                        <td id=\"T_4c875ade_0bd8_11ea_b01c_b888e33440c4row5_col2\" class=\"data row5 col2\" >0.751</td>\n",
       "                        <td id=\"T_4c875ade_0bd8_11ea_b01c_b888e33440c4row5_col3\" class=\"data row5 col3\" >0.803</td>\n",
       "                        <td id=\"T_4c875ade_0bd8_11ea_b01c_b888e33440c4row5_col4\" class=\"data row5 col4\" >0.831</td>\n",
       "                        <td id=\"T_4c875ade_0bd8_11ea_b01c_b888e33440c4row5_col5\" class=\"data row5 col5\" >0.113</td>\n",
       "            </tr>\n",
       "            <tr>\n",
       "                        <th id=\"T_4c875ade_0bd8_11ea_b01c_b888e33440c4level0_row6\" class=\"row_heading level0 row6\" >1000000000.0</th>\n",
       "                        <td id=\"T_4c875ade_0bd8_11ea_b01c_b888e33440c4row6_col0\" class=\"data row6 col0\" >0.702</td>\n",
       "                        <td id=\"T_4c875ade_0bd8_11ea_b01c_b888e33440c4row6_col1\" class=\"data row6 col1\" >0.72</td>\n",
       "                        <td id=\"T_4c875ade_0bd8_11ea_b01c_b888e33440c4row6_col2\" class=\"data row6 col2\" >0.751</td>\n",
       "                        <td id=\"T_4c875ade_0bd8_11ea_b01c_b888e33440c4row6_col3\" class=\"data row6 col3\" >0.803</td>\n",
       "                        <td id=\"T_4c875ade_0bd8_11ea_b01c_b888e33440c4row6_col4\" class=\"data row6 col4\" >0.831</td>\n",
       "                        <td id=\"T_4c875ade_0bd8_11ea_b01c_b888e33440c4row6_col5\" class=\"data row6 col5\" >0.113</td>\n",
       "            </tr>\n",
       "            <tr>\n",
       "                        <th id=\"T_4c875ade_0bd8_11ea_b01c_b888e33440c4level0_row7\" class=\"row_heading level0 row7\" >10000000000.0</th>\n",
       "                        <td id=\"T_4c875ade_0bd8_11ea_b01c_b888e33440c4row7_col0\" class=\"data row7 col0\" >0.708</td>\n",
       "                        <td id=\"T_4c875ade_0bd8_11ea_b01c_b888e33440c4row7_col1\" class=\"data row7 col1\" >0.72</td>\n",
       "                        <td id=\"T_4c875ade_0bd8_11ea_b01c_b888e33440c4row7_col2\" class=\"data row7 col2\" >0.751</td>\n",
       "                        <td id=\"T_4c875ade_0bd8_11ea_b01c_b888e33440c4row7_col3\" class=\"data row7 col3\" >0.803</td>\n",
       "                        <td id=\"T_4c875ade_0bd8_11ea_b01c_b888e33440c4row7_col4\" class=\"data row7 col4\" >0.831</td>\n",
       "                        <td id=\"T_4c875ade_0bd8_11ea_b01c_b888e33440c4row7_col5\" class=\"data row7 col5\" >0.113</td>\n",
       "            </tr>\n",
       "            <tr>\n",
       "                        <th id=\"T_4c875ade_0bd8_11ea_b01c_b888e33440c4level0_row8\" class=\"row_heading level0 row8\" >100000000000.0</th>\n",
       "                        <td id=\"T_4c875ade_0bd8_11ea_b01c_b888e33440c4row8_col0\" class=\"data row8 col0\" >0.708</td>\n",
       "                        <td id=\"T_4c875ade_0bd8_11ea_b01c_b888e33440c4row8_col1\" class=\"data row8 col1\" >0.72</td>\n",
       "                        <td id=\"T_4c875ade_0bd8_11ea_b01c_b888e33440c4row8_col2\" class=\"data row8 col2\" >0.751</td>\n",
       "                        <td id=\"T_4c875ade_0bd8_11ea_b01c_b888e33440c4row8_col3\" class=\"data row8 col3\" >0.803</td>\n",
       "                        <td id=\"T_4c875ade_0bd8_11ea_b01c_b888e33440c4row8_col4\" class=\"data row8 col4\" >0.831</td>\n",
       "                        <td id=\"T_4c875ade_0bd8_11ea_b01c_b888e33440c4row8_col5\" class=\"data row8 col5\" >0.113</td>\n",
       "            </tr>\n",
       "    </tbody></table>"
      ],
      "text/plain": [
       "<pandas.io.formats.style.Styler at 0x7fcc27eb1588>"
      ]
     },
     "execution_count": 35,
     "metadata": {},
     "output_type": "execute_result"
    }
   ],
   "source": [
    "grid_results(svc_clf, \"clf__C\", \"clf__gamma\")"
   ]
  },
  {
   "cell_type": "code",
   "execution_count": 36,
   "metadata": {},
   "outputs": [
    {
     "name": "stdout",
     "output_type": "stream",
     "text": [
      "              precision    recall  f1-score   support\n",
      "\n",
      "           0       0.92      0.92      0.92      1055\n",
      "           1       0.83      0.83      0.83       514\n",
      "\n",
      "    accuracy                           0.89      1569\n",
      "   macro avg       0.87      0.87      0.87      1569\n",
      "weighted avg       0.89      0.89      0.89      1569\n",
      "\n"
     ]
    },
    {
     "data": {
      "text/plain": [
       "(<Figure size 432x288 with 2 Axes>,\n",
       " <matplotlib.axes._subplots.AxesSubplot at 0x7fcc27e45a58>)"
      ]
     },
     "metadata": {},
     "output_type": "display_data"
    },
    {
     "data": {
      "image/png": "[encoded data removed]",
      "text/plain": [
       "<Figure size 432x288 with 2 Axes>"
      ]
     },
     "metadata": {
      "needs_background": "light"
     },
     "output_type": "display_data"
    }
   ],
   "source": [
    "report(svc_clf.best_estimator_, X_train, y_train.values)"
   ]
  },
  {
   "cell_type": "markdown",
   "metadata": {},
   "source": [
    "### RandomForests"
   ]
  },
  {
   "cell_type": "code",
   "execution_count": 37,
   "metadata": {},
   "outputs": [
    {
     "data": {
      "text/plain": [
       "GridSearchCV(cv=3, error_score='raise-deprecating',\n",
       "             estimator=Pipeline(memory=None,\n",
       "                                steps=[('pre',\n",
       "                                        Pipeline(memory=None,\n",
       "                                                 steps=[('columnselector',\n",
       "                                                         ColumnSelector(columns=['City',\n",
       "                                                                                 'Zip',\n",
       "                                                                                 'Bank',\n",
       "                                                                                 'BankState',\n",
       "                                                                                 'NAICS',\n",
       "                                                                                 'NoEmp',\n",
       "                                                                                 'NewExist',\n",
       "                                                                                 'CreateJob',\n",
       "                                                                                 'RetainedJob',\n",
       "                                                                                 'FranchiseCode',\n",
       "                                                                                 'UrbanRural',\n",
       "                                                                                 'RevLineCr',\n",
       "                                                                                 'LowDoc',\n",
       "                                                                                 'DisbursementGross',\n",
       "                                                                                 'GrAppv',\n",
       "                                                                                 'SBA_Appv',\n",
       "                                                                                 'New',\n",
       "                                                                                 'Rea...\n",
       "                                                               min_weight_fraction_leaf=0.0,\n",
       "                                                               n_estimators='warn',\n",
       "                                                               n_jobs=None,\n",
       "                                                               oob_score=False,\n",
       "                                                               random_state=42,\n",
       "                                                               verbose=0,\n",
       "                                                               warm_start=False))],\n",
       "                                verbose=False),\n",
       "             iid='warn', n_jobs=-1,\n",
       "             param_grid={'clf__max_depth': [10, 20, 30, None],\n",
       "                         'clf__max_features': [0.1, 0.2, 0.3, None],\n",
       "                         'clf__n_estimators': [50, 100, 150]},\n",
       "             pre_dispatch='2*n_jobs', refit=True, return_train_score=False,\n",
       "             scoring='recall', verbose=0)"
      ]
     },
     "execution_count": 37,
     "metadata": {},
     "output_type": "execute_result"
    }
   ],
   "source": [
    "param_grid = {\n",
    "    \"clf__n_estimators\": [50, 100, 150],  # Qtde de Árvores na floresta\n",
    "    \"clf__max_depth\": [10, 20, 30, None],  # Profunidade da árvore\n",
    "    \"clf__max_features\": [0.1, 0.2, 0.3, None],\n",
    "}\n",
    "\n",
    "rf_pipeline = Pipeline(\n",
    "    steps=[\n",
    "        (\"pre\", preprocess_pipeline),\n",
    "        (\"clf\", RandomForestClassifier(random_state=42)),\n",
    "    ]\n",
    ")\n",
    "\n",
    "\n",
    "rf_clf = GridSearchCV(rf_pipeline, param_grid, scoring=\"recall\", cv=K_FOLDS, n_jobs=-1)\n",
    "rf_clf.fit(X_train, y_train.values)"
   ]
  },
  {
   "cell_type": "code",
   "execution_count": 38,
   "metadata": {},
   "outputs": [
    {
     "name": "stdout",
     "output_type": "stream",
     "text": [
      "Recall of 0.870 for {'clf__max_depth': 20, 'clf__max_features': 0.2, 'clf__n_estimators': 100}\n"
     ]
    }
   ],
   "source": [
    "show_best_results(rf_clf)"
   ]
  },
  {
   "cell_type": "code",
   "execution_count": 39,
   "metadata": {},
   "outputs": [
    {
     "name": "stdout",
     "output_type": "stream",
     "text": [
      "              precision    recall  f1-score   support\n",
      "\n",
      "           0       0.94      0.95      0.95      1055\n",
      "           1       0.90      0.87      0.89       514\n",
      "\n",
      "    accuracy                           0.93      1569\n",
      "   macro avg       0.92      0.91      0.92      1569\n",
      "weighted avg       0.93      0.93      0.93      1569\n",
      "\n"
     ]
    },
    {
     "data": {
      "text/plain": [
       "(<Figure size 432x288 with 2 Axes>,\n",
       " <matplotlib.axes._subplots.AxesSubplot at 0x7fcc27dc2f98>)"
      ]
     },
     "metadata": {},
     "output_type": "display_data"
    },
    {
     "data": {
      "image/png": "[encoded data removed]",
      "text/plain": [
       "<Figure size 432x288 with 2 Axes>"
      ]
     },
     "metadata": {
      "needs_background": "light"
     },
     "output_type": "display_data"
    }
   ],
   "source": [
    "report(rf_clf.best_estimator_, X_train, y_train.values)"
   ]
  },
  {
   "cell_type": "markdown",
   "metadata": {},
   "source": [
    "### XGBoost"
   ]
  },
  {
   "cell_type": "code",
   "execution_count": 40,
   "metadata": {},
   "outputs": [
    {
     "data": {
      "text/plain": [
       "GridSearchCV(cv=3, error_score='raise-deprecating',\n",
       "             estimator=Pipeline(memory=None,\n",
       "                                steps=[('pre',\n",
       "                                        Pipeline(memory=None,\n",
       "                                                 steps=[('columnselector',\n",
       "                                                         ColumnSelector(columns=['City',\n",
       "                                                                                 'Zip',\n",
       "                                                                                 'Bank',\n",
       "                                                                                 'BankState',\n",
       "                                                                                 'NAICS',\n",
       "                                                                                 'NoEmp',\n",
       "                                                                                 'NewExist',\n",
       "                                                                                 'CreateJob',\n",
       "                                                                                 'RetainedJob',\n",
       "                                                                                 'FranchiseCode',\n",
       "                                                                                 'UrbanRural',\n",
       "                                                                                 'RevLineCr',\n",
       "                                                                                 'LowDoc',\n",
       "                                                                                 'DisbursementGross',\n",
       "                                                                                 'GrAppv',\n",
       "                                                                                 'SBA_Appv',\n",
       "                                                                                 'New',\n",
       "                                                                                 'Rea...\n",
       "                                                      random_state=42,\n",
       "                                                      reg_alpha=0, reg_lambda=1,\n",
       "                                                      scale_pos_weight=1,\n",
       "                                                      seed=None, silent=None,\n",
       "                                                      subsample=1,\n",
       "                                                      verbosity=1))],\n",
       "                                verbose=False),\n",
       "             iid='warn', n_jobs=-1,\n",
       "             param_grid={'clf__max_depth': array([ 1,  2,  3,  4,  5,  6,  7,  8,  9, 10]),\n",
       "                         'clf__n_estimators': array([ 25,  50,  75, 100, 125, 150, 175, 200])},\n",
       "             pre_dispatch='2*n_jobs', refit=True, return_train_score=False,\n",
       "             scoring='recall', verbose=0)"
      ]
     },
     "execution_count": 40,
     "metadata": {},
     "output_type": "execute_result"
    }
   ],
   "source": [
    "param_grid = {\n",
    "    \"clf__n_estimators\": np.linspace(25, 200, 8).astype(int),\n",
    "    \"clf__max_depth\": np.linspace(1, 10, 10).astype(int),\n",
    "}\n",
    "\n",
    "\n",
    "xgboost_pipeline = Pipeline(\n",
    "    steps=[(\"pre\", preprocess_pipeline), (\"clf\", XGBClassifier(random_state=42))]\n",
    ")\n",
    "\n",
    "\n",
    "xgboost_clf = GridSearchCV(\n",
    "    xgboost_pipeline, param_grid, scoring=\"recall\", cv=K_FOLDS, n_jobs=-1\n",
    ")\n",
    "xgboost_clf.fit(X_train, y_train.values)"
   ]
  },
  {
   "cell_type": "code",
   "execution_count": 41,
   "metadata": {},
   "outputs": [
    {
     "name": "stdout",
     "output_type": "stream",
     "text": [
      "Recall of 0.922 for {'clf__max_depth': 5, 'clf__n_estimators': 150}\n"
     ]
    }
   ],
   "source": [
    "show_best_results(xgboost_clf)"
   ]
  },
  {
   "cell_type": "code",
   "execution_count": 42,
   "metadata": {},
   "outputs": [
    {
     "data": {
      "text/html": [
       "<style  type=\"text/css\" >\n",
       "    #T_97cb9672_0bd8_11ea_b01c_b888e33440c4row0_col0 {\n",
       "            background-color:  #c4daee;\n",
       "            color:  #000000;\n",
       "        }    #T_97cb9672_0bd8_11ea_b01c_b888e33440c4row0_col1 {\n",
       "            background-color:  #f2f7fd;\n",
       "            color:  #000000;\n",
       "        }    #T_97cb9672_0bd8_11ea_b01c_b888e33440c4row0_col2 {\n",
       "            background-color:  #8dc1dd;\n",
       "            color:  #000000;\n",
       "        }    #T_97cb9672_0bd8_11ea_b01c_b888e33440c4row0_col3 {\n",
       "            background-color:  #6aaed6;\n",
       "            color:  #000000;\n",
       "        }    #T_97cb9672_0bd8_11ea_b01c_b888e33440c4row0_col4 {\n",
       "            background-color:  #3d8dc4;\n",
       "            color:  #000000;\n",
       "        }    #T_97cb9672_0bd8_11ea_b01c_b888e33440c4row0_col5 {\n",
       "            background-color:  #1460a8;\n",
       "            color:  #f1f1f1;\n",
       "        }    #T_97cb9672_0bd8_11ea_b01c_b888e33440c4row0_col6 {\n",
       "            background-color:  #2676b8;\n",
       "            color:  #000000;\n",
       "        }    #T_97cb9672_0bd8_11ea_b01c_b888e33440c4row0_col7 {\n",
       "            background-color:  #206fb4;\n",
       "            color:  #f1f1f1;\n",
       "        }    #T_97cb9672_0bd8_11ea_b01c_b888e33440c4row0_col8 {\n",
       "            background-color:  #2e7ebc;\n",
       "            color:  #000000;\n",
       "        }    #T_97cb9672_0bd8_11ea_b01c_b888e33440c4row0_col9 {\n",
       "            background-color:  #2676b8;\n",
       "            color:  #000000;\n",
       "        }    #T_97cb9672_0bd8_11ea_b01c_b888e33440c4row1_col0 {\n",
       "            background-color:  #cadef0;\n",
       "            color:  #000000;\n",
       "        }    #T_97cb9672_0bd8_11ea_b01c_b888e33440c4row1_col1 {\n",
       "            background-color:  #d6e5f4;\n",
       "            color:  #000000;\n",
       "        }    #T_97cb9672_0bd8_11ea_b01c_b888e33440c4row1_col2 {\n",
       "            background-color:  #82bbdb;\n",
       "            color:  #000000;\n",
       "        }    #T_97cb9672_0bd8_11ea_b01c_b888e33440c4row1_col3 {\n",
       "            background-color:  #4594c7;\n",
       "            color:  #000000;\n",
       "        }    #T_97cb9672_0bd8_11ea_b01c_b888e33440c4row1_col4 {\n",
       "            background-color:  #1460a8;\n",
       "            color:  #f1f1f1;\n",
       "        }    #T_97cb9672_0bd8_11ea_b01c_b888e33440c4row1_col5 {\n",
       "            background-color:  #1460a8;\n",
       "            color:  #f1f1f1;\n",
       "        }    #T_97cb9672_0bd8_11ea_b01c_b888e33440c4row1_col6 {\n",
       "            background-color:  #1967ad;\n",
       "            color:  #f1f1f1;\n",
       "        }    #T_97cb9672_0bd8_11ea_b01c_b888e33440c4row1_col7 {\n",
       "            background-color:  #1967ad;\n",
       "            color:  #f1f1f1;\n",
       "        }    #T_97cb9672_0bd8_11ea_b01c_b888e33440c4row1_col8 {\n",
       "            background-color:  #084e98;\n",
       "            color:  #f1f1f1;\n",
       "        }    #T_97cb9672_0bd8_11ea_b01c_b888e33440c4row1_col9 {\n",
       "            background-color:  #115ca5;\n",
       "            color:  #f1f1f1;\n",
       "        }    #T_97cb9672_0bd8_11ea_b01c_b888e33440c4row2_col0 {\n",
       "            background-color:  #e7f0fa;\n",
       "            color:  #000000;\n",
       "        }    #T_97cb9672_0bd8_11ea_b01c_b888e33440c4row2_col1 {\n",
       "            background-color:  #c4daee;\n",
       "            color:  #000000;\n",
       "        }    #T_97cb9672_0bd8_11ea_b01c_b888e33440c4row2_col2 {\n",
       "            background-color:  #4f9bcb;\n",
       "            color:  #000000;\n",
       "        }    #T_97cb9672_0bd8_11ea_b01c_b888e33440c4row2_col3 {\n",
       "            background-color:  #0b559f;\n",
       "            color:  #f1f1f1;\n",
       "        }    #T_97cb9672_0bd8_11ea_b01c_b888e33440c4row2_col4 {\n",
       "            background-color:  #1967ad;\n",
       "            color:  #f1f1f1;\n",
       "        }    #T_97cb9672_0bd8_11ea_b01c_b888e33440c4row2_col5 {\n",
       "            background-color:  #084e98;\n",
       "            color:  #f1f1f1;\n",
       "        }    #T_97cb9672_0bd8_11ea_b01c_b888e33440c4row2_col6 {\n",
       "            background-color:  #0b559f;\n",
       "            color:  #f1f1f1;\n",
       "        }    #T_97cb9672_0bd8_11ea_b01c_b888e33440c4row2_col7 {\n",
       "            background-color:  #0b559f;\n",
       "            color:  #f1f1f1;\n",
       "        }    #T_97cb9672_0bd8_11ea_b01c_b888e33440c4row2_col8 {\n",
       "            background-color:  #0b559f;\n",
       "            color:  #f1f1f1;\n",
       "        }    #T_97cb9672_0bd8_11ea_b01c_b888e33440c4row2_col9 {\n",
       "            background-color:  #0b559f;\n",
       "            color:  #f1f1f1;\n",
       "        }    #T_97cb9672_0bd8_11ea_b01c_b888e33440c4row3_col0 {\n",
       "            background-color:  #e7f0fa;\n",
       "            color:  #000000;\n",
       "        }    #T_97cb9672_0bd8_11ea_b01c_b888e33440c4row3_col1 {\n",
       "            background-color:  #82bbdb;\n",
       "            color:  #000000;\n",
       "        }    #T_97cb9672_0bd8_11ea_b01c_b888e33440c4row3_col2 {\n",
       "            background-color:  #3686c0;\n",
       "            color:  #000000;\n",
       "        }    #T_97cb9672_0bd8_11ea_b01c_b888e33440c4row3_col3 {\n",
       "            background-color:  #1460a8;\n",
       "            color:  #f1f1f1;\n",
       "        }    #T_97cb9672_0bd8_11ea_b01c_b888e33440c4row3_col4 {\n",
       "            background-color:  #08468b;\n",
       "            color:  #f1f1f1;\n",
       "        }    #T_97cb9672_0bd8_11ea_b01c_b888e33440c4row3_col5 {\n",
       "            background-color:  #084e98;\n",
       "            color:  #f1f1f1;\n",
       "        }    #T_97cb9672_0bd8_11ea_b01c_b888e33440c4row3_col6 {\n",
       "            background-color:  #115ca5;\n",
       "            color:  #f1f1f1;\n",
       "        }    #T_97cb9672_0bd8_11ea_b01c_b888e33440c4row3_col7 {\n",
       "            background-color:  #1460a8;\n",
       "            color:  #f1f1f1;\n",
       "        }    #T_97cb9672_0bd8_11ea_b01c_b888e33440c4row3_col8 {\n",
       "            background-color:  #115ca5;\n",
       "            color:  #f1f1f1;\n",
       "        }    #T_97cb9672_0bd8_11ea_b01c_b888e33440c4row3_col9 {\n",
       "            background-color:  #115ca5;\n",
       "            color:  #f1f1f1;\n",
       "        }    #T_97cb9672_0bd8_11ea_b01c_b888e33440c4row4_col0 {\n",
       "            background-color:  #f2f7fd;\n",
       "            color:  #000000;\n",
       "        }    #T_97cb9672_0bd8_11ea_b01c_b888e33440c4row4_col1 {\n",
       "            background-color:  #3d8dc4;\n",
       "            color:  #000000;\n",
       "        }    #T_97cb9672_0bd8_11ea_b01c_b888e33440c4row4_col2 {\n",
       "            background-color:  #2e7ebc;\n",
       "            color:  #000000;\n",
       "        }    #T_97cb9672_0bd8_11ea_b01c_b888e33440c4row4_col3 {\n",
       "            background-color:  #08468b;\n",
       "            color:  #f1f1f1;\n",
       "        }    #T_97cb9672_0bd8_11ea_b01c_b888e33440c4row4_col4 {\n",
       "            background-color:  #083776;\n",
       "            color:  #f1f1f1;\n",
       "        }    #T_97cb9672_0bd8_11ea_b01c_b888e33440c4row4_col5 {\n",
       "            background-color:  #083e81;\n",
       "            color:  #f1f1f1;\n",
       "        }    #T_97cb9672_0bd8_11ea_b01c_b888e33440c4row4_col6 {\n",
       "            background-color:  #084e98;\n",
       "            color:  #f1f1f1;\n",
       "        }    #T_97cb9672_0bd8_11ea_b01c_b888e33440c4row4_col7 {\n",
       "            background-color:  #1967ad;\n",
       "            color:  #f1f1f1;\n",
       "        }    #T_97cb9672_0bd8_11ea_b01c_b888e33440c4row4_col8 {\n",
       "            background-color:  #115ca5;\n",
       "            color:  #f1f1f1;\n",
       "        }    #T_97cb9672_0bd8_11ea_b01c_b888e33440c4row4_col9 {\n",
       "            background-color:  #0b559f;\n",
       "            color:  #f1f1f1;\n",
       "        }    #T_97cb9672_0bd8_11ea_b01c_b888e33440c4row5_col0 {\n",
       "            background-color:  #f7fbff;\n",
       "            color:  #000000;\n",
       "        }    #T_97cb9672_0bd8_11ea_b01c_b888e33440c4row5_col1 {\n",
       "            background-color:  #2676b8;\n",
       "            color:  #000000;\n",
       "        }    #T_97cb9672_0bd8_11ea_b01c_b888e33440c4row5_col2 {\n",
       "            background-color:  #1460a8;\n",
       "            color:  #f1f1f1;\n",
       "        }    #T_97cb9672_0bd8_11ea_b01c_b888e33440c4row5_col3 {\n",
       "            background-color:  #08468b;\n",
       "            color:  #f1f1f1;\n",
       "        }    #T_97cb9672_0bd8_11ea_b01c_b888e33440c4row5_col4 {\n",
       "            background-color:  #08306b;\n",
       "            color:  #f1f1f1;\n",
       "        }    #T_97cb9672_0bd8_11ea_b01c_b888e33440c4row5_col5 {\n",
       "            background-color:  #08468b;\n",
       "            color:  #f1f1f1;\n",
       "        }    #T_97cb9672_0bd8_11ea_b01c_b888e33440c4row5_col6 {\n",
       "            background-color:  #115ca5;\n",
       "            color:  #f1f1f1;\n",
       "        }    #T_97cb9672_0bd8_11ea_b01c_b888e33440c4row5_col7 {\n",
       "            background-color:  #1967ad;\n",
       "            color:  #f1f1f1;\n",
       "        }    #T_97cb9672_0bd8_11ea_b01c_b888e33440c4row5_col8 {\n",
       "            background-color:  #115ca5;\n",
       "            color:  #f1f1f1;\n",
       "        }    #T_97cb9672_0bd8_11ea_b01c_b888e33440c4row5_col9 {\n",
       "            background-color:  #1460a8;\n",
       "            color:  #f1f1f1;\n",
       "        }    #T_97cb9672_0bd8_11ea_b01c_b888e33440c4row6_col0 {\n",
       "            background-color:  #f7fbff;\n",
       "            color:  #000000;\n",
       "        }    #T_97cb9672_0bd8_11ea_b01c_b888e33440c4row6_col1 {\n",
       "            background-color:  #0b559f;\n",
       "            color:  #f1f1f1;\n",
       "        }    #T_97cb9672_0bd8_11ea_b01c_b888e33440c4row6_col2 {\n",
       "            background-color:  #115ca5;\n",
       "            color:  #f1f1f1;\n",
       "        }    #T_97cb9672_0bd8_11ea_b01c_b888e33440c4row6_col3 {\n",
       "            background-color:  #0b559f;\n",
       "            color:  #f1f1f1;\n",
       "        }    #T_97cb9672_0bd8_11ea_b01c_b888e33440c4row6_col4 {\n",
       "            background-color:  #083e81;\n",
       "            color:  #f1f1f1;\n",
       "        }    #T_97cb9672_0bd8_11ea_b01c_b888e33440c4row6_col5 {\n",
       "            background-color:  #0b559f;\n",
       "            color:  #f1f1f1;\n",
       "        }    #T_97cb9672_0bd8_11ea_b01c_b888e33440c4row6_col6 {\n",
       "            background-color:  #115ca5;\n",
       "            color:  #f1f1f1;\n",
       "        }    #T_97cb9672_0bd8_11ea_b01c_b888e33440c4row6_col7 {\n",
       "            background-color:  #1460a8;\n",
       "            color:  #f1f1f1;\n",
       "        }    #T_97cb9672_0bd8_11ea_b01c_b888e33440c4row6_col8 {\n",
       "            background-color:  #115ca5;\n",
       "            color:  #f1f1f1;\n",
       "        }    #T_97cb9672_0bd8_11ea_b01c_b888e33440c4row6_col9 {\n",
       "            background-color:  #1460a8;\n",
       "            color:  #f1f1f1;\n",
       "        }    #T_97cb9672_0bd8_11ea_b01c_b888e33440c4row7_col0 {\n",
       "            background-color:  #ecf4fb;\n",
       "            color:  #000000;\n",
       "        }    #T_97cb9672_0bd8_11ea_b01c_b888e33440c4row7_col1 {\n",
       "            background-color:  #0b559f;\n",
       "            color:  #f1f1f1;\n",
       "        }    #T_97cb9672_0bd8_11ea_b01c_b888e33440c4row7_col2 {\n",
       "            background-color:  #084e98;\n",
       "            color:  #f1f1f1;\n",
       "        }    #T_97cb9672_0bd8_11ea_b01c_b888e33440c4row7_col3 {\n",
       "            background-color:  #1460a8;\n",
       "            color:  #f1f1f1;\n",
       "        }    #T_97cb9672_0bd8_11ea_b01c_b888e33440c4row7_col4 {\n",
       "            background-color:  #084e98;\n",
       "            color:  #f1f1f1;\n",
       "        }    #T_97cb9672_0bd8_11ea_b01c_b888e33440c4row7_col5 {\n",
       "            background-color:  #0b559f;\n",
       "            color:  #f1f1f1;\n",
       "        }    #T_97cb9672_0bd8_11ea_b01c_b888e33440c4row7_col6 {\n",
       "            background-color:  #0b559f;\n",
       "            color:  #f1f1f1;\n",
       "        }    #T_97cb9672_0bd8_11ea_b01c_b888e33440c4row7_col7 {\n",
       "            background-color:  #1460a8;\n",
       "            color:  #f1f1f1;\n",
       "        }    #T_97cb9672_0bd8_11ea_b01c_b888e33440c4row7_col8 {\n",
       "            background-color:  #0b559f;\n",
       "            color:  #f1f1f1;\n",
       "        }    #T_97cb9672_0bd8_11ea_b01c_b888e33440c4row7_col9 {\n",
       "            background-color:  #1967ad;\n",
       "            color:  #f1f1f1;\n",
       "        }</style><table id=\"T_97cb9672_0bd8_11ea_b01c_b888e33440c4\" ><thead>    <tr>        <th class=\"index_name level0\" >param_clf__max_depth</th>        <th class=\"col_heading level0 col0\" >1</th>        <th class=\"col_heading level0 col1\" >2</th>        <th class=\"col_heading level0 col2\" >3</th>        <th class=\"col_heading level0 col3\" >4</th>        <th class=\"col_heading level0 col4\" >5</th>        <th class=\"col_heading level0 col5\" >6</th>        <th class=\"col_heading level0 col6\" >7</th>        <th class=\"col_heading level0 col7\" >8</th>        <th class=\"col_heading level0 col8\" >9</th>        <th class=\"col_heading level0 col9\" >10</th>    </tr>    <tr>        <th class=\"index_name level0\" >param_clf__n_estimators</th>        <th class=\"blank\" ></th>        <th class=\"blank\" ></th>        <th class=\"blank\" ></th>        <th class=\"blank\" ></th>        <th class=\"blank\" ></th>        <th class=\"blank\" ></th>        <th class=\"blank\" ></th>        <th class=\"blank\" ></th>        <th class=\"blank\" ></th>        <th class=\"blank\" ></th>    </tr></thead><tbody>\n",
       "                <tr>\n",
       "                        <th id=\"T_97cb9672_0bd8_11ea_b01c_b888e33440c4level0_row0\" class=\"row_heading level0 row0\" >25</th>\n",
       "                        <td id=\"T_97cb9672_0bd8_11ea_b01c_b888e33440c4row0_col0\" class=\"data row0 col0\" >0.87</td>\n",
       "                        <td id=\"T_97cb9672_0bd8_11ea_b01c_b888e33440c4row0_col1\" class=\"data row0 col1\" >0.854</td>\n",
       "                        <td id=\"T_97cb9672_0bd8_11ea_b01c_b888e33440c4row0_col2\" class=\"data row0 col2\" >0.881</td>\n",
       "                        <td id=\"T_97cb9672_0bd8_11ea_b01c_b888e33440c4row0_col3\" class=\"data row0 col3\" >0.887</td>\n",
       "                        <td id=\"T_97cb9672_0bd8_11ea_b01c_b888e33440c4row0_col4\" class=\"data row0 col4\" >0.897</td>\n",
       "                        <td id=\"T_97cb9672_0bd8_11ea_b01c_b888e33440c4row0_col5\" class=\"data row0 col5\" >0.909</td>\n",
       "                        <td id=\"T_97cb9672_0bd8_11ea_b01c_b888e33440c4row0_col6\" class=\"data row0 col6\" >0.903</td>\n",
       "                        <td id=\"T_97cb9672_0bd8_11ea_b01c_b888e33440c4row0_col7\" class=\"data row0 col7\" >0.905</td>\n",
       "                        <td id=\"T_97cb9672_0bd8_11ea_b01c_b888e33440c4row0_col8\" class=\"data row0 col8\" >0.901</td>\n",
       "                        <td id=\"T_97cb9672_0bd8_11ea_b01c_b888e33440c4row0_col9\" class=\"data row0 col9\" >0.903</td>\n",
       "            </tr>\n",
       "            <tr>\n",
       "                        <th id=\"T_97cb9672_0bd8_11ea_b01c_b888e33440c4level0_row1\" class=\"row_heading level0 row1\" >50</th>\n",
       "                        <td id=\"T_97cb9672_0bd8_11ea_b01c_b888e33440c4row1_col0\" class=\"data row1 col0\" >0.868</td>\n",
       "                        <td id=\"T_97cb9672_0bd8_11ea_b01c_b888e33440c4row1_col1\" class=\"data row1 col1\" >0.864</td>\n",
       "                        <td id=\"T_97cb9672_0bd8_11ea_b01c_b888e33440c4row1_col2\" class=\"data row1 col2\" >0.883</td>\n",
       "                        <td id=\"T_97cb9672_0bd8_11ea_b01c_b888e33440c4row1_col3\" class=\"data row1 col3\" >0.895</td>\n",
       "                        <td id=\"T_97cb9672_0bd8_11ea_b01c_b888e33440c4row1_col4\" class=\"data row1 col4\" >0.909</td>\n",
       "                        <td id=\"T_97cb9672_0bd8_11ea_b01c_b888e33440c4row1_col5\" class=\"data row1 col5\" >0.909</td>\n",
       "                        <td id=\"T_97cb9672_0bd8_11ea_b01c_b888e33440c4row1_col6\" class=\"data row1 col6\" >0.907</td>\n",
       "                        <td id=\"T_97cb9672_0bd8_11ea_b01c_b888e33440c4row1_col7\" class=\"data row1 col7\" >0.907</td>\n",
       "                        <td id=\"T_97cb9672_0bd8_11ea_b01c_b888e33440c4row1_col8\" class=\"data row1 col8\" >0.914</td>\n",
       "                        <td id=\"T_97cb9672_0bd8_11ea_b01c_b888e33440c4row1_col9\" class=\"data row1 col9\" >0.91</td>\n",
       "            </tr>\n",
       "            <tr>\n",
       "                        <th id=\"T_97cb9672_0bd8_11ea_b01c_b888e33440c4level0_row2\" class=\"row_heading level0 row2\" >75</th>\n",
       "                        <td id=\"T_97cb9672_0bd8_11ea_b01c_b888e33440c4row2_col0\" class=\"data row2 col0\" >0.858</td>\n",
       "                        <td id=\"T_97cb9672_0bd8_11ea_b01c_b888e33440c4row2_col1\" class=\"data row2 col1\" >0.87</td>\n",
       "                        <td id=\"T_97cb9672_0bd8_11ea_b01c_b888e33440c4row2_col2\" class=\"data row2 col2\" >0.893</td>\n",
       "                        <td id=\"T_97cb9672_0bd8_11ea_b01c_b888e33440c4row2_col3\" class=\"data row2 col3\" >0.912</td>\n",
       "                        <td id=\"T_97cb9672_0bd8_11ea_b01c_b888e33440c4row2_col4\" class=\"data row2 col4\" >0.907</td>\n",
       "                        <td id=\"T_97cb9672_0bd8_11ea_b01c_b888e33440c4row2_col5\" class=\"data row2 col5\" >0.914</td>\n",
       "                        <td id=\"T_97cb9672_0bd8_11ea_b01c_b888e33440c4row2_col6\" class=\"data row2 col6\" >0.912</td>\n",
       "                        <td id=\"T_97cb9672_0bd8_11ea_b01c_b888e33440c4row2_col7\" class=\"data row2 col7\" >0.912</td>\n",
       "                        <td id=\"T_97cb9672_0bd8_11ea_b01c_b888e33440c4row2_col8\" class=\"data row2 col8\" >0.912</td>\n",
       "                        <td id=\"T_97cb9672_0bd8_11ea_b01c_b888e33440c4row2_col9\" class=\"data row2 col9\" >0.912</td>\n",
       "            </tr>\n",
       "            <tr>\n",
       "                        <th id=\"T_97cb9672_0bd8_11ea_b01c_b888e33440c4level0_row3\" class=\"row_heading level0 row3\" >100</th>\n",
       "                        <td id=\"T_97cb9672_0bd8_11ea_b01c_b888e33440c4row3_col0\" class=\"data row3 col0\" >0.858</td>\n",
       "                        <td id=\"T_97cb9672_0bd8_11ea_b01c_b888e33440c4row3_col1\" class=\"data row3 col1\" >0.883</td>\n",
       "                        <td id=\"T_97cb9672_0bd8_11ea_b01c_b888e33440c4row3_col2\" class=\"data row3 col2\" >0.899</td>\n",
       "                        <td id=\"T_97cb9672_0bd8_11ea_b01c_b888e33440c4row3_col3\" class=\"data row3 col3\" >0.909</td>\n",
       "                        <td id=\"T_97cb9672_0bd8_11ea_b01c_b888e33440c4row3_col4\" class=\"data row3 col4\" >0.916</td>\n",
       "                        <td id=\"T_97cb9672_0bd8_11ea_b01c_b888e33440c4row3_col5\" class=\"data row3 col5\" >0.914</td>\n",
       "                        <td id=\"T_97cb9672_0bd8_11ea_b01c_b888e33440c4row3_col6\" class=\"data row3 col6\" >0.91</td>\n",
       "                        <td id=\"T_97cb9672_0bd8_11ea_b01c_b888e33440c4row3_col7\" class=\"data row3 col7\" >0.909</td>\n",
       "                        <td id=\"T_97cb9672_0bd8_11ea_b01c_b888e33440c4row3_col8\" class=\"data row3 col8\" >0.91</td>\n",
       "                        <td id=\"T_97cb9672_0bd8_11ea_b01c_b888e33440c4row3_col9\" class=\"data row3 col9\" >0.91</td>\n",
       "            </tr>\n",
       "            <tr>\n",
       "                        <th id=\"T_97cb9672_0bd8_11ea_b01c_b888e33440c4level0_row4\" class=\"row_heading level0 row4\" >125</th>\n",
       "                        <td id=\"T_97cb9672_0bd8_11ea_b01c_b888e33440c4row4_col0\" class=\"data row4 col0\" >0.854</td>\n",
       "                        <td id=\"T_97cb9672_0bd8_11ea_b01c_b888e33440c4row4_col1\" class=\"data row4 col1\" >0.897</td>\n",
       "                        <td id=\"T_97cb9672_0bd8_11ea_b01c_b888e33440c4row4_col2\" class=\"data row4 col2\" >0.901</td>\n",
       "                        <td id=\"T_97cb9672_0bd8_11ea_b01c_b888e33440c4row4_col3\" class=\"data row4 col3\" >0.916</td>\n",
       "                        <td id=\"T_97cb9672_0bd8_11ea_b01c_b888e33440c4row4_col4\" class=\"data row4 col4\" >0.92</td>\n",
       "                        <td id=\"T_97cb9672_0bd8_11ea_b01c_b888e33440c4row4_col5\" class=\"data row4 col5\" >0.918</td>\n",
       "                        <td id=\"T_97cb9672_0bd8_11ea_b01c_b888e33440c4row4_col6\" class=\"data row4 col6\" >0.914</td>\n",
       "                        <td id=\"T_97cb9672_0bd8_11ea_b01c_b888e33440c4row4_col7\" class=\"data row4 col7\" >0.907</td>\n",
       "                        <td id=\"T_97cb9672_0bd8_11ea_b01c_b888e33440c4row4_col8\" class=\"data row4 col8\" >0.91</td>\n",
       "                        <td id=\"T_97cb9672_0bd8_11ea_b01c_b888e33440c4row4_col9\" class=\"data row4 col9\" >0.912</td>\n",
       "            </tr>\n",
       "            <tr>\n",
       "                        <th id=\"T_97cb9672_0bd8_11ea_b01c_b888e33440c4level0_row5\" class=\"row_heading level0 row5\" >150</th>\n",
       "                        <td id=\"T_97cb9672_0bd8_11ea_b01c_b888e33440c4row5_col0\" class=\"data row5 col0\" >0.852</td>\n",
       "                        <td id=\"T_97cb9672_0bd8_11ea_b01c_b888e33440c4row5_col1\" class=\"data row5 col1\" >0.903</td>\n",
       "                        <td id=\"T_97cb9672_0bd8_11ea_b01c_b888e33440c4row5_col2\" class=\"data row5 col2\" >0.909</td>\n",
       "                        <td id=\"T_97cb9672_0bd8_11ea_b01c_b888e33440c4row5_col3\" class=\"data row5 col3\" >0.916</td>\n",
       "                        <td id=\"T_97cb9672_0bd8_11ea_b01c_b888e33440c4row5_col4\" class=\"data row5 col4\" >0.922</td>\n",
       "                        <td id=\"T_97cb9672_0bd8_11ea_b01c_b888e33440c4row5_col5\" class=\"data row5 col5\" >0.916</td>\n",
       "                        <td id=\"T_97cb9672_0bd8_11ea_b01c_b888e33440c4row5_col6\" class=\"data row5 col6\" >0.91</td>\n",
       "                        <td id=\"T_97cb9672_0bd8_11ea_b01c_b888e33440c4row5_col7\" class=\"data row5 col7\" >0.907</td>\n",
       "                        <td id=\"T_97cb9672_0bd8_11ea_b01c_b888e33440c4row5_col8\" class=\"data row5 col8\" >0.91</td>\n",
       "                        <td id=\"T_97cb9672_0bd8_11ea_b01c_b888e33440c4row5_col9\" class=\"data row5 col9\" >0.909</td>\n",
       "            </tr>\n",
       "            <tr>\n",
       "                        <th id=\"T_97cb9672_0bd8_11ea_b01c_b888e33440c4level0_row6\" class=\"row_heading level0 row6\" >175</th>\n",
       "                        <td id=\"T_97cb9672_0bd8_11ea_b01c_b888e33440c4row6_col0\" class=\"data row6 col0\" >0.852</td>\n",
       "                        <td id=\"T_97cb9672_0bd8_11ea_b01c_b888e33440c4row6_col1\" class=\"data row6 col1\" >0.912</td>\n",
       "                        <td id=\"T_97cb9672_0bd8_11ea_b01c_b888e33440c4row6_col2\" class=\"data row6 col2\" >0.91</td>\n",
       "                        <td id=\"T_97cb9672_0bd8_11ea_b01c_b888e33440c4row6_col3\" class=\"data row6 col3\" >0.912</td>\n",
       "                        <td id=\"T_97cb9672_0bd8_11ea_b01c_b888e33440c4row6_col4\" class=\"data row6 col4\" >0.918</td>\n",
       "                        <td id=\"T_97cb9672_0bd8_11ea_b01c_b888e33440c4row6_col5\" class=\"data row6 col5\" >0.912</td>\n",
       "                        <td id=\"T_97cb9672_0bd8_11ea_b01c_b888e33440c4row6_col6\" class=\"data row6 col6\" >0.91</td>\n",
       "                        <td id=\"T_97cb9672_0bd8_11ea_b01c_b888e33440c4row6_col7\" class=\"data row6 col7\" >0.909</td>\n",
       "                        <td id=\"T_97cb9672_0bd8_11ea_b01c_b888e33440c4row6_col8\" class=\"data row6 col8\" >0.91</td>\n",
       "                        <td id=\"T_97cb9672_0bd8_11ea_b01c_b888e33440c4row6_col9\" class=\"data row6 col9\" >0.909</td>\n",
       "            </tr>\n",
       "            <tr>\n",
       "                        <th id=\"T_97cb9672_0bd8_11ea_b01c_b888e33440c4level0_row7\" class=\"row_heading level0 row7\" >200</th>\n",
       "                        <td id=\"T_97cb9672_0bd8_11ea_b01c_b888e33440c4row7_col0\" class=\"data row7 col0\" >0.856</td>\n",
       "                        <td id=\"T_97cb9672_0bd8_11ea_b01c_b888e33440c4row7_col1\" class=\"data row7 col1\" >0.912</td>\n",
       "                        <td id=\"T_97cb9672_0bd8_11ea_b01c_b888e33440c4row7_col2\" class=\"data row7 col2\" >0.914</td>\n",
       "                        <td id=\"T_97cb9672_0bd8_11ea_b01c_b888e33440c4row7_col3\" class=\"data row7 col3\" >0.909</td>\n",
       "                        <td id=\"T_97cb9672_0bd8_11ea_b01c_b888e33440c4row7_col4\" class=\"data row7 col4\" >0.914</td>\n",
       "                        <td id=\"T_97cb9672_0bd8_11ea_b01c_b888e33440c4row7_col5\" class=\"data row7 col5\" >0.912</td>\n",
       "                        <td id=\"T_97cb9672_0bd8_11ea_b01c_b888e33440c4row7_col6\" class=\"data row7 col6\" >0.912</td>\n",
       "                        <td id=\"T_97cb9672_0bd8_11ea_b01c_b888e33440c4row7_col7\" class=\"data row7 col7\" >0.909</td>\n",
       "                        <td id=\"T_97cb9672_0bd8_11ea_b01c_b888e33440c4row7_col8\" class=\"data row7 col8\" >0.912</td>\n",
       "                        <td id=\"T_97cb9672_0bd8_11ea_b01c_b888e33440c4row7_col9\" class=\"data row7 col9\" >0.907</td>\n",
       "            </tr>\n",
       "    </tbody></table>"
      ],
      "text/plain": [
       "<pandas.io.formats.style.Styler at 0x7fcc27e88128>"
      ]
     },
     "execution_count": 42,
     "metadata": {},
     "output_type": "execute_result"
    }
   ],
   "source": [
    "grid_results(xgboost_clf, \"clf__n_estimators\", \"clf__max_depth\")"
   ]
  },
  {
   "cell_type": "code",
   "execution_count": 43,
   "metadata": {},
   "outputs": [
    {
     "name": "stdout",
     "output_type": "stream",
     "text": [
      "              precision    recall  f1-score   support\n",
      "\n",
      "           0       0.96      0.95      0.96      1055\n",
      "           1       0.90      0.92      0.91       514\n",
      "\n",
      "    accuracy                           0.94      1569\n",
      "   macro avg       0.93      0.94      0.93      1569\n",
      "weighted avg       0.94      0.94      0.94      1569\n",
      "\n"
     ]
    },
    {
     "data": {
      "text/plain": [
       "(<Figure size 432x288 with 2 Axes>,\n",
       " <matplotlib.axes._subplots.AxesSubplot at 0x7fcc27d10470>)"
      ]
     },
     "metadata": {},
     "output_type": "display_data"
    },
    {
     "data": {
      "image/png": "[encoded data removed]",
      "text/plain": [
       "<Figure size 432x288 with 2 Axes>"
      ]
     },
     "metadata": {
      "needs_background": "light"
     },
     "output_type": "display_data"
    }
   ],
   "source": [
    "report(xgboost_clf.best_estimator_, X_train, y_train.values)"
   ]
  },
  {
   "cell_type": "markdown",
   "metadata": {},
   "source": [
    "### Resumo dos modelos"
   ]
  },
  {
   "cell_type": "code",
   "execution_count": 44,
   "metadata": {},
   "outputs": [],
   "source": [
    "models = {\n",
    "    \"Random\": random_clf,\n",
    "    \"Logit\": logit_clf,\n",
    "    \"Random Forests\": rf_clf,\n",
    "    \"XGBoost\": xgboost_clf,\n",
    "    \"SVC\": svc_clf,\n",
    "}"
   ]
  },
  {
   "cell_type": "code",
   "execution_count": 45,
   "metadata": {},
   "outputs": [
    {
     "name": "stdout",
     "output_type": "stream",
     "text": [
      "CPU times: user 437 ms, sys: 231 ms, total: 668 ms\n",
      "Wall time: 5min 2s\n"
     ]
    }
   ],
   "source": [
    "%%time\n",
    "\n",
    "models_best_scores = {\n",
    "    name: cross_val_score(\n",
    "        model, X_train, y_train.values, scoring=\"recall\", cv=K_FOLDS, n_jobs=-1\n",
    "    ).mean()\n",
    "    for name, model in models.items()\n",
    "}"
   ]
  },
  {
   "cell_type": "code",
   "execution_count": 46,
   "metadata": {},
   "outputs": [
    {
     "data": {
      "text/html": [
       "<style  type=\"text/css\" >\n",
       "    #T_4d5df656_0bd9_11ea_b01c_b888e33440c4row0_col0 {\n",
       "            background-color:  #023858;\n",
       "            color:  #f1f1f1;\n",
       "        }    #T_4d5df656_0bd9_11ea_b01c_b888e33440c4row1_col0 {\n",
       "            background-color:  #04598c;\n",
       "            color:  #f1f1f1;\n",
       "        }    #T_4d5df656_0bd9_11ea_b01c_b888e33440c4row2_col0 {\n",
       "            background-color:  #0d75b3;\n",
       "            color:  #f1f1f1;\n",
       "        }    #T_4d5df656_0bd9_11ea_b01c_b888e33440c4row3_col0 {\n",
       "            background-color:  #2484ba;\n",
       "            color:  #000000;\n",
       "        }    #T_4d5df656_0bd9_11ea_b01c_b888e33440c4row4_col0 {\n",
       "            background-color:  #fff7fb;\n",
       "            color:  #000000;\n",
       "        }</style><table id=\"T_4d5df656_0bd9_11ea_b01c_b888e33440c4\" ><thead>    <tr>        <th class=\"blank level0\" ></th>        <th class=\"col_heading level0 col0\" >Recall</th>    </tr></thead><tbody>\n",
       "                <tr>\n",
       "                        <th id=\"T_4d5df656_0bd9_11ea_b01c_b888e33440c4level0_row0\" class=\"row_heading level0 row0\" >XGBoost</th>\n",
       "                        <td id=\"T_4d5df656_0bd9_11ea_b01c_b888e33440c4row0_col0\" class=\"data row0 col0\" >0.909</td>\n",
       "            </tr>\n",
       "            <tr>\n",
       "                        <th id=\"T_4d5df656_0bd9_11ea_b01c_b888e33440c4level0_row1\" class=\"row_heading level0 row1\" >Random Forests</th>\n",
       "                        <td id=\"T_4d5df656_0bd9_11ea_b01c_b888e33440c4row1_col0\" class=\"data row1 col0\" >0.86</td>\n",
       "            </tr>\n",
       "            <tr>\n",
       "                        <th id=\"T_4d5df656_0bd9_11ea_b01c_b888e33440c4level0_row2\" class=\"row_heading level0 row2\" >SVC</th>\n",
       "                        <td id=\"T_4d5df656_0bd9_11ea_b01c_b888e33440c4row2_col0\" class=\"data row2 col0\" >0.801</td>\n",
       "            </tr>\n",
       "            <tr>\n",
       "                        <th id=\"T_4d5df656_0bd9_11ea_b01c_b888e33440c4level0_row3\" class=\"row_heading level0 row3\" >Logit</th>\n",
       "                        <td id=\"T_4d5df656_0bd9_11ea_b01c_b888e33440c4row3_col0\" class=\"data row3 col0\" >0.778</td>\n",
       "            </tr>\n",
       "            <tr>\n",
       "                        <th id=\"T_4d5df656_0bd9_11ea_b01c_b888e33440c4level0_row4\" class=\"row_heading level0 row4\" >Random</th>\n",
       "                        <td id=\"T_4d5df656_0bd9_11ea_b01c_b888e33440c4row4_col0\" class=\"data row4 col0\" >0.514</td>\n",
       "            </tr>\n",
       "    </tbody></table>"
      ],
      "text/plain": [
       "<pandas.io.formats.style.Styler at 0x7fcc27ccb9e8>"
      ]
     },
     "execution_count": 46,
     "metadata": {},
     "output_type": "execute_result"
    }
   ],
   "source": [
    "pd.Series(models_best_scores).rename(\"Recall\").sort_values(\n",
    "    ascending=False\n",
    ").to_frame().round(3).style.background_gradient()"
   ]
  },
  {
   "cell_type": "code",
   "execution_count": 47,
   "metadata": {},
   "outputs": [
    {
     "data": {
      "image/png": "[encoded data removed]",
      "text/plain": [
       "<Figure size 432x288 with 1 Axes>"
      ]
     },
     "metadata": {
      "needs_background": "light"
     },
     "output_type": "display_data"
    }
   ],
   "source": [
    "ax = pd.Series(models_best_scores).sort_values(ascending=True).plot.barh(zorder=5)\n",
    "ax.set(\n",
    "    xlabel=\"Recall\",\n",
    "    title=f\"Resultado da Validação Cruzada {K_FOLDS}-Folds\",\n",
    "    xlim=[0, 1],\n",
    "    xticks=np.arange(0, 1.1, 0.1),\n",
    ")\n",
    "ax.grid(axis=\"x\", zorder=0)"
   ]
  },
  {
   "cell_type": "code",
   "execution_count": 48,
   "metadata": {},
   "outputs": [],
   "source": [
    "best_model = models[\n",
    "    max(models_best_scores.keys(), key=(lambda key: models_best_scores[key]))\n",
    "]"
   ]
  },
  {
   "cell_type": "markdown",
   "metadata": {},
   "source": [
    "## Teste"
   ]
  },
  {
   "cell_type": "markdown",
   "metadata": {},
   "source": [
    "Hora de utilizar o dataset de teste. Vamos utilizar o nosso melhor modelo para prever a inadimplência. Em seguida, iremos comparar com o resultado real."
   ]
  },
  {
   "cell_type": "code",
   "execution_count": 49,
   "metadata": {},
   "outputs": [
    {
     "name": "stdout",
     "output_type": "stream",
     "text": [
      "              precision    recall  f1-score   support\n",
      "\n",
      "           0       0.96      0.96      0.96       353\n",
      "           1       0.92      0.91      0.91       171\n",
      "\n",
      "    accuracy                           0.94       524\n",
      "   macro avg       0.94      0.94      0.94       524\n",
      "weighted avg       0.94      0.94      0.94       524\n",
      "\n"
     ]
    },
    {
     "data": {
      "text/plain": [
       "(<Figure size 432x288 with 2 Axes>,\n",
       " <matplotlib.axes._subplots.AxesSubplot at 0x7fcc27c016a0>)"
      ]
     },
     "metadata": {},
     "output_type": "display_data"
    },
    {
     "data": {
      "image/png": "[encoded data removed]",
      "text/plain": [
       "<Figure size 432x288 with 2 Axes>"
      ]
     },
     "metadata": {
      "needs_background": "light"
     },
     "output_type": "display_data"
    }
   ],
   "source": [
    "y_pred = best_model.predict(X_test)\n",
    "print(classification_report(y_test.values, y_pred))\n",
    "display(confusion_matrix_vis(y_test.values, y_pred))"
   ]
  },
  {
   "cell_type": "markdown",
   "metadata": {},
   "source": [
    "De 524, conseguimos acertar 94%. Aprovaríamos 15 empréstimos que se tornariam inadimplentes (falsos negativos) e negaríamos 14 empréstimos de bons pagadores (falsos positivos)."
   ]
  },
  {
   "cell_type": "markdown",
   "metadata": {},
   "source": [
    "Podemos também calcular a probabilidade de inadimplência."
   ]
  },
  {
   "cell_type": "code",
   "execution_count": 50,
   "metadata": {},
   "outputs": [
    {
     "data": {
      "text/plain": [
       "<matplotlib.patches.Polygon at 0x7fcc27ba4a20>"
      ]
     },
     "execution_count": 50,
     "metadata": {},
     "output_type": "execute_result"
    },
    {
     "data": {
      "image/png": "[encoded data removed]",
      "text/plain": [
       "<Figure size 432x288 with 1 Axes>"
      ]
     },
     "metadata": {
      "needs_background": "light"
     },
     "output_type": "display_data"
    }
   ],
   "source": [
    "y_pred_proba = (\n",
    "    pd.DataFrame(best_model.predict_proba(X_test))\n",
    "    .sort_values([1])\n",
    "    .reset_index(drop=True)\n",
    ")\n",
    "\n",
    "fig, ax = plt.subplots()\n",
    "(y_pred_proba * 100).reset_index(drop=True).plot.line(ax=ax)\n",
    "\n",
    "ax.legend(title=\"Default\")\n",
    "\n",
    "ax.set(xlabel=\"# de Solicitações de Empréstimo\", ylabel=\"Probabilidade (%)\")\n",
    "\n",
    "ax.axhspan(0, 100, 0.5, 0.9, facecolor=\"0.5\", alpha=0.2)"
   ]
  },
  {
   "cell_type": "markdown",
   "metadata": {},
   "source": [
    "A faixa em cinza aponta os empréstimos em que o modelo não é 100% preciso."
   ]
  },
  {
   "cell_type": "markdown",
   "metadata": {},
   "source": [
    "## Referências "
   ]
  },
  {
   "cell_type": "markdown",
   "metadata": {},
   "source": [
    "* https://www.tandfonline.com/doi/full/10.1080/10691898.2018.1434342\n",
    "* https://ramhiser.com/post/2018-04-16-building-scikit-learn-pipeline-with-pandas-dataframe/\n",
    "* http://www.xavierdupre.fr/app/mlinsights/helpsphinx/notebooks/visualize_pipeline.html"
   ]
  }
 ],
 "metadata": {
  "kernelspec": {
   "display_name": "Python 3",
   "language": "python",
   "name": "python3"
  },
  "language_info": {
   "codemirror_mode": {
    "name": "ipython",
    "version": 3
   },
   "file_extension": ".py",
   "mimetype": "text/x-python",
   "name": "python",
   "nbconvert_exporter": "python",
   "pygments_lexer": "ipython3",
   "version": "3.7.3"
  },
  "toc-autonumbering": true
 },
 "nbformat": 4,
 "nbformat_minor": 4
}
